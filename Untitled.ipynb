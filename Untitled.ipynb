{
 "cells": [
  {
   "cell_type": "code",
   "execution_count": 16,
   "id": "bb64a320-f270-4fd3-ae16-701873847550",
   "metadata": {
    "id": "0eed3846-9f31-4452-ab59-530bde6cf320",
    "tags": []
   },
   "outputs": [
    {
     "name": "stdout",
     "output_type": "stream",
     "text": [
      "--2025-01-02 12:06:04--  https://d37ci6vzurychx.cloudfront.net/trip-data/yellow_tripdata_2021-06.parquet\n",
      "Resolving d37ci6vzurychx.cloudfront.net (d37ci6vzurychx.cloudfront.net)... 18.161.140.201, 18.161.140.41, 18.161.140.124, ...\n",
      "Connecting to d37ci6vzurychx.cloudfront.net (d37ci6vzurychx.cloudfront.net)|18.161.140.201|:443... connected.\n",
      "HTTP request sent, awaiting response... 200 OK\n",
      "Length: 44071592 (42M) [application/x-www-form-urlencoded]\n",
      "Saving to: ‘yellow_tripdata_2021-06.parquet’\n",
      "\n",
      "yellow_tripdata_202 100%[===================>]  42.03M  52.4MB/s    in 0.8s    \n",
      "\n",
      "2025-01-02 12:06:05 (52.4 MB/s) - ‘yellow_tripdata_2021-06.parquet’ saved [44071592/44071592]\n",
      "\n"
     ]
    }
   ],
   "source": [
    "!wget https://d37ci6vzurychx.cloudfront.net/trip-data/yellow_tripdata_2021-06.parquet "
   ]
  },
  {
   "cell_type": "code",
   "execution_count": 1,
   "id": "d6c40ae9-38b0-48e9-ae6f-43203e8746a6",
   "metadata": {
    "id": "d6c40ae9-38b0-48e9-ae6f-43203e8746a6",
    "tags": []
   },
   "outputs": [],
   "source": [
    "import pandas as pd"
   ]
  },
  {
   "cell_type": "code",
   "execution_count": 2,
   "id": "e6aa20cd-503a-46f6-8c87-c776b9fb4db1",
   "metadata": {
    "id": "e6aa20cd-503a-46f6-8c87-c776b9fb4db1",
    "tags": []
   },
   "outputs": [],
   "source": [
    "df=pd.read_parquet(\"yellow_tripdata_2021-06.parquet\")"
   ]
  },
  {
   "cell_type": "code",
   "execution_count": 10,
   "id": "4c70fd5c-35d0-49d1-9e14-d9ad596112ac",
   "metadata": {
    "id": "4c70fd5c-35d0-49d1-9e14-d9ad596112ac",
    "tags": []
   },
   "outputs": [
    {
     "data": {
      "text/plain": [
       "VendorID                          int64\n",
       "tpep_pickup_datetime     datetime64[ns]\n",
       "tpep_dropoff_datetime    datetime64[ns]\n",
       "passenger_count                 float64\n",
       "trip_distance                   float64\n",
       "RatecodeID                      float64\n",
       "store_and_fwd_flag               object\n",
       "PULocationID                      int64\n",
       "DOLocationID                      int64\n",
       "payment_type                      int64\n",
       "fare_amount                     float64\n",
       "extra                           float64\n",
       "mta_tax                         float64\n",
       "tip_amount                      float64\n",
       "tolls_amount                    float64\n",
       "improvement_surcharge           float64\n",
       "total_amount                    float64\n",
       "congestion_surcharge            float64\n",
       "airport_fee                     float64\n",
       "dtype: object"
      ]
     },
     "execution_count": 10,
     "metadata": {},
     "output_type": "execute_result"
    }
   ],
   "source": [
    "df.dtypes"
   ]
  },
  {
   "cell_type": "code",
   "execution_count": 3,
   "id": "bf447123-8738-4f55-a228-cc138e1eea18",
   "metadata": {
    "id": "bf447123-8738-4f55-a228-cc138e1eea18",
    "tags": []
   },
   "outputs": [
    {
     "name": "stdout",
     "output_type": "stream",
     "text": [
      "Unexpected exception formatting exception. Falling back to standard exception\n"
     ]
    },
    {
     "name": "stderr",
     "output_type": "stream",
     "text": [
      "Traceback (most recent call last):\n",
      "  File \"/opt/conda/envs/Python-RT23.1-Premium/lib/python3.10/site-packages/IPython/core/interactiveshell.py\", line 3505, in run_code\n",
      "    exec(code_obj, self.user_global_ns, self.user_ns)\n",
      "  File \"/tmp/1000750000/ipykernel_344/3764233375.py\", line 1, in <module>\n",
      "    df=df[['tpep_pickup_datetime','tpep_dropoff_datetime','trip_distance','total_amount']]\n",
      "  File \"/opt/conda/envs/Python-RT23.1-Premium/lib/python3.10/site-packages/pandas/core/frame.py\", line 3819, in __getitem__\n",
      "    data = self._take_with_is_copy(indexer, axis=1)\n",
      "  File \"/opt/conda/envs/Python-RT23.1-Premium/lib/python3.10/site-packages/pandas/core/generic.py\", line 3902, in _take_with_is_copy\n",
      "    result = self._take(indices=indices, axis=axis)\n",
      "  File \"/opt/conda/envs/Python-RT23.1-Premium/lib/python3.10/site-packages/pandas/core/generic.py\", line 3886, in _take\n",
      "    new_data = self._mgr.take(\n",
      "  File \"/opt/conda/envs/Python-RT23.1-Premium/lib/python3.10/site-packages/pandas/core/internals/managers.py\", line 978, in take\n",
      "    return self.reindex_indexer(\n",
      "  File \"/opt/conda/envs/Python-RT23.1-Premium/lib/python3.10/site-packages/pandas/core/internals/managers.py\", line 743, in reindex_indexer\n",
      "    new_blocks, new_refs = self._slice_take_blocks_ax0(\n",
      "  File \"/opt/conda/envs/Python-RT23.1-Premium/lib/python3.10/site-packages/pandas/core/internals/managers.py\", line 912, in _slice_take_blocks_ax0\n",
      "    nb = blk.take_nd(taker, axis=0, new_mgr_locs=mgr_locs)\n",
      "  File \"/opt/conda/envs/Python-RT23.1-Premium/lib/python3.10/site-packages/pandas/core/internals/blocks.py\", line 880, in take_nd\n",
      "    new_values = algos.take_nd(\n",
      "  File \"/opt/conda/envs/Python-RT23.1-Premium/lib/python3.10/site-packages/pandas/core/array_algos/take.py\", line 117, in take_nd\n",
      "    return _take_nd_ndarray(arr, indexer, axis, fill_value, allow_fill)\n",
      "  File \"/opt/conda/envs/Python-RT23.1-Premium/lib/python3.10/site-packages/pandas/core/array_algos/take.py\", line 158, in _take_nd_ndarray\n",
      "    out = np.empty(out_shape, dtype=dtype)\n",
      "numpy.core._exceptions._ArrayMemoryError: Unable to allocate 43.2 MiB for an array with shape (2, 2834264) and data type float64\n",
      "\n",
      "During handling of the above exception, another exception occurred:\n",
      "\n",
      "Traceback (most recent call last):\n",
      "  File \"/opt/conda/envs/Python-RT23.1-Premium/lib/python3.10/site-packages/executing/executing.py\", line 317, in executing\n",
      "    args = executing_cache[key]\n",
      "KeyError: (<code object __getitem__ at 0x7f3a19af7680, file \"/opt/conda/envs/Python-RT23.1-Premium/lib/python3.10/site-packages/pandas/core/frame.py\", line 3758>, 139887515760256, 426)\n",
      "\n",
      "During handling of the above exception, another exception occurred:\n",
      "\n",
      "Traceback (most recent call last):\n",
      "  File \"/opt/conda/envs/Python-RT23.1-Premium/lib/python3.10/site-packages/IPython/core/interactiveshell.py\", line 2102, in showtraceback\n",
      "    stb = self.InteractiveTB.structured_traceback(\n",
      "  File \"/opt/conda/envs/Python-RT23.1-Premium/lib/python3.10/site-packages/IPython/core/ultratb.py\", line 1310, in structured_traceback\n",
      "    return FormattedTB.structured_traceback(\n",
      "  File \"/opt/conda/envs/Python-RT23.1-Premium/lib/python3.10/site-packages/IPython/core/ultratb.py\", line 1199, in structured_traceback\n",
      "    return VerboseTB.structured_traceback(\n",
      "  File \"/opt/conda/envs/Python-RT23.1-Premium/lib/python3.10/site-packages/IPython/core/ultratb.py\", line 1052, in structured_traceback\n",
      "    formatted_exception = self.format_exception_as_a_whole(etype, evalue, etb, number_of_lines_of_context,\n",
      "  File \"/opt/conda/envs/Python-RT23.1-Premium/lib/python3.10/site-packages/IPython/core/ultratb.py\", line 953, in format_exception_as_a_whole\n",
      "    self.get_records(etb, number_of_lines_of_context, tb_offset) if etb else []\n",
      "  File \"/opt/conda/envs/Python-RT23.1-Premium/lib/python3.10/site-packages/IPython/core/ultratb.py\", line 1039, in get_records\n",
      "    res = list(stack_data.FrameInfo.stack_data(etb, options=options))[tb_offset:]\n",
      "  File \"/opt/conda/envs/Python-RT23.1-Premium/lib/python3.10/site-packages/stack_data/core.py\", line 565, in stack_data\n",
      "    yield from collapse_repeated(\n",
      "  File \"/opt/conda/envs/Python-RT23.1-Premium/lib/python3.10/site-packages/stack_data/utils.py\", line 84, in collapse_repeated\n",
      "    yield from map(mapper, original_group)\n",
      "  File \"/opt/conda/envs/Python-RT23.1-Premium/lib/python3.10/site-packages/stack_data/core.py\", line 555, in mapper\n",
      "    return cls(f, options)\n",
      "  File \"/opt/conda/envs/Python-RT23.1-Premium/lib/python3.10/site-packages/stack_data/core.py\", line 520, in __init__\n",
      "    self.executing = Source.executing(frame_or_tb)\n",
      "  File \"/opt/conda/envs/Python-RT23.1-Premium/lib/python3.10/site-packages/executing/executing.py\", line 369, in executing\n",
      "    args = find(source=cls.for_frame(frame), retry_cache=True)\n",
      "  File \"/opt/conda/envs/Python-RT23.1-Premium/lib/python3.10/site-packages/executing/executing.py\", line 252, in for_frame\n",
      "    return cls.for_filename(frame.f_code.co_filename, frame.f_globals or {}, use_cache)\n",
      "  File \"/opt/conda/envs/Python-RT23.1-Premium/lib/python3.10/site-packages/executing/executing.py\", line 270, in for_filename\n",
      "    result = source_cache[filename] = cls._for_filename_and_lines(filename, lines)\n",
      "  File \"/opt/conda/envs/Python-RT23.1-Premium/lib/python3.10/site-packages/executing/executing.py\", line 281, in _for_filename_and_lines\n",
      "    result = source_cache[(filename, lines)] = cls(filename, lines)\n",
      "  File \"/opt/conda/envs/Python-RT23.1-Premium/lib/python3.10/site-packages/stack_data/core.py\", line 79, in __init__\n",
      "    super(Source, self).__init__(*args, **kwargs)\n",
      "  File \"/opt/conda/envs/Python-RT23.1-Premium/lib/python3.10/site-packages/executing/executing.py\", line 228, in __init__\n",
      "    self.tree = ast.parse(ast_text, filename=filename)\n",
      "  File \"/opt/conda/envs/Python-RT23.1-Premium/lib/python3.10/ast.py\", line 50, in parse\n",
      "    return compile(source, filename, mode, flags,\n",
      "MemoryError\n"
     ]
    }
   ],
   "source": [
    "df=df[['tpep_pickup_datetime','tpep_dropoff_datetime','trip_distance','total_amount']]"
   ]
  },
  {
   "cell_type": "code",
   "execution_count": 14,
   "id": "95da786e-35bf-4fdb-a0be-00dda9b9f456",
   "metadata": {
    "id": "95da786e-35bf-4fdb-a0be-00dda9b9f456",
    "tags": []
   },
   "outputs": [
    {
     "data": {
      "text/html": [
       "<div>\n",
       "<style scoped>\n",
       "    .dataframe tbody tr th:only-of-type {\n",
       "        vertical-align: middle;\n",
       "    }\n",
       "\n",
       "    .dataframe tbody tr th {\n",
       "        vertical-align: top;\n",
       "    }\n",
       "\n",
       "    .dataframe thead th {\n",
       "        text-align: right;\n",
       "    }\n",
       "</style>\n",
       "<table border=\"1\" class=\"dataframe\">\n",
       "  <thead>\n",
       "    <tr style=\"text-align: right;\">\n",
       "      <th></th>\n",
       "      <th>tpep_pickup_datetime</th>\n",
       "      <th>tpep_dropoff_datetime</th>\n",
       "      <th>trip_distance</th>\n",
       "      <th>total_amount</th>\n",
       "    </tr>\n",
       "  </thead>\n",
       "  <tbody>\n",
       "    <tr>\n",
       "      <th>0</th>\n",
       "      <td>2020-09-01 00:38:58</td>\n",
       "      <td>2020-09-01 01:08:12</td>\n",
       "      <td>10.76</td>\n",
       "      <td>38.20</td>\n",
       "    </tr>\n",
       "    <tr>\n",
       "      <th>1</th>\n",
       "      <td>2020-09-01 00:55:26</td>\n",
       "      <td>2020-09-01 01:15:34</td>\n",
       "      <td>6.37</td>\n",
       "      <td>27.30</td>\n",
       "    </tr>\n",
       "    <tr>\n",
       "      <th>2</th>\n",
       "      <td>2020-09-01 00:00:40</td>\n",
       "      <td>2020-09-01 00:10:25</td>\n",
       "      <td>2.32</td>\n",
       "      <td>14.80</td>\n",
       "    </tr>\n",
       "    <tr>\n",
       "      <th>3</th>\n",
       "      <td>2020-09-01 00:26:01</td>\n",
       "      <td>2020-09-01 00:35:50</td>\n",
       "      <td>1.82</td>\n",
       "      <td>15.38</td>\n",
       "    </tr>\n",
       "    <tr>\n",
       "      <th>4</th>\n",
       "      <td>2020-09-01 00:29:09</td>\n",
       "      <td>2020-09-01 01:00:33</td>\n",
       "      <td>4.90</td>\n",
       "      <td>28.80</td>\n",
       "    </tr>\n",
       "    <tr>\n",
       "      <th>...</th>\n",
       "      <td>...</td>\n",
       "      <td>...</td>\n",
       "      <td>...</td>\n",
       "      <td>...</td>\n",
       "    </tr>\n",
       "    <tr>\n",
       "      <th>1341012</th>\n",
       "      <td>2020-09-30 23:18:41</td>\n",
       "      <td>2020-09-30 23:33:25</td>\n",
       "      <td>5.00</td>\n",
       "      <td>24.36</td>\n",
       "    </tr>\n",
       "    <tr>\n",
       "      <th>1341013</th>\n",
       "      <td>2020-09-30 23:10:03</td>\n",
       "      <td>2020-09-30 23:32:56</td>\n",
       "      <td>9.00</td>\n",
       "      <td>45.50</td>\n",
       "    </tr>\n",
       "    <tr>\n",
       "      <th>1341014</th>\n",
       "      <td>2020-09-30 23:44:00</td>\n",
       "      <td>2020-10-01 00:00:00</td>\n",
       "      <td>3.67</td>\n",
       "      <td>25.50</td>\n",
       "    </tr>\n",
       "    <tr>\n",
       "      <th>1341015</th>\n",
       "      <td>2020-09-30 23:49:00</td>\n",
       "      <td>2020-10-01 00:09:00</td>\n",
       "      <td>4.95</td>\n",
       "      <td>21.17</td>\n",
       "    </tr>\n",
       "    <tr>\n",
       "      <th>1341016</th>\n",
       "      <td>2020-09-30 23:16:00</td>\n",
       "      <td>2020-09-30 23:53:18</td>\n",
       "      <td>21.70</td>\n",
       "      <td>68.10</td>\n",
       "    </tr>\n",
       "  </tbody>\n",
       "</table>\n",
       "<p>1341017 rows × 4 columns</p>\n",
       "</div>"
      ],
      "text/plain": [
       "        tpep_pickup_datetime tpep_dropoff_datetime  trip_distance  \\\n",
       "0        2020-09-01 00:38:58   2020-09-01 01:08:12          10.76   \n",
       "1        2020-09-01 00:55:26   2020-09-01 01:15:34           6.37   \n",
       "2        2020-09-01 00:00:40   2020-09-01 00:10:25           2.32   \n",
       "3        2020-09-01 00:26:01   2020-09-01 00:35:50           1.82   \n",
       "4        2020-09-01 00:29:09   2020-09-01 01:00:33           4.90   \n",
       "...                      ...                   ...            ...   \n",
       "1341012  2020-09-30 23:18:41   2020-09-30 23:33:25           5.00   \n",
       "1341013  2020-09-30 23:10:03   2020-09-30 23:32:56           9.00   \n",
       "1341014  2020-09-30 23:44:00   2020-10-01 00:00:00           3.67   \n",
       "1341015  2020-09-30 23:49:00   2020-10-01 00:09:00           4.95   \n",
       "1341016  2020-09-30 23:16:00   2020-09-30 23:53:18          21.70   \n",
       "\n",
       "         total_amount  \n",
       "0               38.20  \n",
       "1               27.30  \n",
       "2               14.80  \n",
       "3               15.38  \n",
       "4               28.80  \n",
       "...               ...  \n",
       "1341012         24.36  \n",
       "1341013         45.50  \n",
       "1341014         25.50  \n",
       "1341015         21.17  \n",
       "1341016         68.10  \n",
       "\n",
       "[1341017 rows x 4 columns]"
      ]
     },
     "execution_count": 14,
     "metadata": {},
     "output_type": "execute_result"
    }
   ],
   "source": [
    "df"
   ]
  },
  {
   "cell_type": "code",
   "execution_count": 15,
   "id": "b5d4c318-abe6-4ffb-a97c-38651ccca9fb",
   "metadata": {
    "id": "b5d4c318-abe6-4ffb-a97c-38651ccca9fb",
    "tags": []
   },
   "outputs": [
    {
     "name": "stdout",
     "output_type": "stream",
     "text": [
      "Unexpected exception formatting exception. Falling back to standard exception\n"
     ]
    },
    {
     "name": "stderr",
     "output_type": "stream",
     "text": [
      "Traceback (most recent call last):\n",
      "  File \"/opt/conda/envs/Python-RT23.1-Premium/lib/python3.10/site-packages/IPython/core/interactiveshell.py\", line 3505, in run_code\n",
      "    exec(code_obj, self.user_global_ns, self.user_ns)\n",
      "  File \"/tmp/1000750000/ipykernel_295/2153676288.py\", line 1, in <module>\n",
      "    df.to_csv(\"taxi_2019.csv\",index=False)\n",
      "  File \"/opt/conda/envs/Python-RT23.1-Premium/lib/python3.10/site-packages/pandas/util/_decorators.py\", line 211, in wrapper\n",
      "    return func(*args, **kwargs)\n",
      "  File \"/opt/conda/envs/Python-RT23.1-Premium/lib/python3.10/site-packages/pandas/core/generic.py\", line 3720, in to_csv\n",
      "    return DataFrameRenderer(formatter).to_csv(\n",
      "  File \"/opt/conda/envs/Python-RT23.1-Premium/lib/python3.10/site-packages/pandas/util/_decorators.py\", line 211, in wrapper\n",
      "    return func(*args, **kwargs)\n",
      "  File \"/opt/conda/envs/Python-RT23.1-Premium/lib/python3.10/site-packages/pandas/io/formats/format.py\", line 1189, in to_csv\n",
      "    csv_formatter.save()\n",
      "  File \"/opt/conda/envs/Python-RT23.1-Premium/lib/python3.10/site-packages/pandas/io/formats/csvs.py\", line 241, in save\n",
      "    with get_handle(\n",
      "  File \"/opt/conda/envs/Python-RT23.1-Premium/lib/python3.10/site-packages/pandas/io/common.py\", line 856, in get_handle\n",
      "    handle = open(\n",
      "MemoryError\n",
      "\n",
      "During handling of the above exception, another exception occurred:\n",
      "\n",
      "Traceback (most recent call last):\n",
      "  File \"/opt/conda/envs/Python-RT23.1-Premium/lib/python3.10/site-packages/executing/executing.py\", line 317, in executing\n",
      "    args = executing_cache[key]\n",
      "KeyError: (<code object to_csv at 0x7f074dc4a8c0, file \"/opt/conda/envs/Python-RT23.1-Premium/lib/python3.10/site-packages/pandas/core/generic.py\", line 3536>, 139669346232512, 88)\n",
      "\n",
      "During handling of the above exception, another exception occurred:\n",
      "\n",
      "Traceback (most recent call last):\n",
      "  File \"/opt/conda/envs/Python-RT23.1-Premium/lib/python3.10/site-packages/IPython/core/interactiveshell.py\", line 2102, in showtraceback\n",
      "    stb = self.InteractiveTB.structured_traceback(\n",
      "  File \"/opt/conda/envs/Python-RT23.1-Premium/lib/python3.10/site-packages/IPython/core/ultratb.py\", line 1310, in structured_traceback\n",
      "    return FormattedTB.structured_traceback(\n",
      "  File \"/opt/conda/envs/Python-RT23.1-Premium/lib/python3.10/site-packages/IPython/core/ultratb.py\", line 1199, in structured_traceback\n",
      "    return VerboseTB.structured_traceback(\n",
      "  File \"/opt/conda/envs/Python-RT23.1-Premium/lib/python3.10/site-packages/IPython/core/ultratb.py\", line 1052, in structured_traceback\n",
      "    formatted_exception = self.format_exception_as_a_whole(etype, evalue, etb, number_of_lines_of_context,\n",
      "  File \"/opt/conda/envs/Python-RT23.1-Premium/lib/python3.10/site-packages/IPython/core/ultratb.py\", line 953, in format_exception_as_a_whole\n",
      "    self.get_records(etb, number_of_lines_of_context, tb_offset) if etb else []\n",
      "  File \"/opt/conda/envs/Python-RT23.1-Premium/lib/python3.10/site-packages/IPython/core/ultratb.py\", line 1039, in get_records\n",
      "    res = list(stack_data.FrameInfo.stack_data(etb, options=options))[tb_offset:]\n",
      "  File \"/opt/conda/envs/Python-RT23.1-Premium/lib/python3.10/site-packages/stack_data/core.py\", line 565, in stack_data\n",
      "    yield from collapse_repeated(\n",
      "  File \"/opt/conda/envs/Python-RT23.1-Premium/lib/python3.10/site-packages/stack_data/utils.py\", line 84, in collapse_repeated\n",
      "    yield from map(mapper, original_group)\n",
      "  File \"/opt/conda/envs/Python-RT23.1-Premium/lib/python3.10/site-packages/stack_data/core.py\", line 555, in mapper\n",
      "    return cls(f, options)\n",
      "  File \"/opt/conda/envs/Python-RT23.1-Premium/lib/python3.10/site-packages/stack_data/core.py\", line 520, in __init__\n",
      "    self.executing = Source.executing(frame_or_tb)\n",
      "  File \"/opt/conda/envs/Python-RT23.1-Premium/lib/python3.10/site-packages/executing/executing.py\", line 369, in executing\n",
      "    args = find(source=cls.for_frame(frame), retry_cache=True)\n",
      "  File \"/opt/conda/envs/Python-RT23.1-Premium/lib/python3.10/site-packages/executing/executing.py\", line 252, in for_frame\n",
      "    return cls.for_filename(frame.f_code.co_filename, frame.f_globals or {}, use_cache)\n",
      "  File \"/opt/conda/envs/Python-RT23.1-Premium/lib/python3.10/site-packages/executing/executing.py\", line 270, in for_filename\n",
      "    result = source_cache[filename] = cls._for_filename_and_lines(filename, lines)\n",
      "  File \"/opt/conda/envs/Python-RT23.1-Premium/lib/python3.10/site-packages/executing/executing.py\", line 281, in _for_filename_and_lines\n",
      "    result = source_cache[(filename, lines)] = cls(filename, lines)\n",
      "  File \"/opt/conda/envs/Python-RT23.1-Premium/lib/python3.10/site-packages/stack_data/core.py\", line 79, in __init__\n",
      "    super(Source, self).__init__(*args, **kwargs)\n",
      "  File \"/opt/conda/envs/Python-RT23.1-Premium/lib/python3.10/site-packages/executing/executing.py\", line 228, in __init__\n",
      "    self.tree = ast.parse(ast_text, filename=filename)\n",
      "  File \"/opt/conda/envs/Python-RT23.1-Premium/lib/python3.10/ast.py\", line 50, in parse\n",
      "    return compile(source, filename, mode, flags,\n",
      "MemoryError\n"
     ]
    }
   ],
   "source": [
    "df.to_csv(\"taxi_2019.csv\",index=False)"
   ]
  }
 ],
 "metadata": {
  "kernelspec": {
   "display_name": "Python 3.10",
   "language": "python",
   "name": "python3"
  },
  "language_info": {
   "codemirror_mode": {
    "name": "ipython",
    "version": 3
   },
   "file_extension": ".py",
   "mimetype": "text/x-python",
   "name": "python",
   "nbconvert_exporter": "python",
   "pygments_lexer": "ipython3",
   "version": "3.10.14"
  }
 },
 "nbformat": 4,
 "nbformat_minor": 5
}
