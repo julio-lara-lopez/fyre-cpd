{
 "cells": [
  {
   "cell_type": "code",
   "execution_count": 11,
   "id": "bb64a320-f270-4fd3-ae16-701873847550",
   "metadata": {
    "id": "0eed3846-9f31-4452-ab59-530bde6cf320",
    "tags": []
   },
   "outputs": [
    {
     "name": "stdout",
     "output_type": "stream",
     "text": [
      "--2025-01-07 18:44:03--  https://d37ci6vzurychx.cloudfront.net/trip-data/yellow_tripdata_2021-09.parquet\n",
      "Resolving d37ci6vzurychx.cloudfront.net (d37ci6vzurychx.cloudfront.net)... 3.166.200.185, 3.166.200.107, 3.166.200.219, ...\n",
      "Connecting to d37ci6vzurychx.cloudfront.net (d37ci6vzurychx.cloudfront.net)|3.166.200.185|:443... connected.\n",
      "HTTP request sent, awaiting response... 200 OK\n",
      "Length: 46125883 (44M) [application/x-www-form-urlencoded]\n",
      "Saving to: ‘yellow_tripdata_2021-09.parquet’\n",
      "\n",
      "yellow_tripdata_202 100%[===================>]  43.99M  99.9MB/s    in 0.4s    \n",
      "\n",
      "2025-01-07 18:44:04 (99.9 MB/s) - ‘yellow_tripdata_2021-09.parquet’ saved [46125883/46125883]\n",
      "\n"
     ]
    }
   ],
   "source": [
    "!wget https://d37ci6vzurychx.cloudfront.net/trip-data/yellow_tripdata_2021-09.parquet "
   ]
  },
  {
   "cell_type": "code",
   "execution_count": 1,
   "id": "d6c40ae9-38b0-48e9-ae6f-43203e8746a6",
   "metadata": {
    "id": "d6c40ae9-38b0-48e9-ae6f-43203e8746a6",
    "tags": []
   },
   "outputs": [],
   "source": [
    "import pandas as pd"
   ]
  },
  {
   "cell_type": "code",
   "execution_count": 3,
   "id": "e6aa20cd-503a-46f6-8c87-c776b9fb4db1",
   "metadata": {
    "id": "e6aa20cd-503a-46f6-8c87-c776b9fb4db1",
    "tags": []
   },
   "outputs": [],
   "source": [
    "df=pd.read_parquet(\"yellow_tripdata_2020-09.parquet\")"
   ]
  },
  {
   "cell_type": "code",
   "execution_count": 4,
   "id": "4c70fd5c-35d0-49d1-9e14-d9ad596112ac",
   "metadata": {
    "id": "4c70fd5c-35d0-49d1-9e14-d9ad596112ac",
    "tags": []
   },
   "outputs": [
    {
     "data": {
      "text/plain": [
       "VendorID                          int64\n",
       "tpep_pickup_datetime     datetime64[us]\n",
       "tpep_dropoff_datetime    datetime64[us]\n",
       "passenger_count                 float64\n",
       "trip_distance                   float64\n",
       "RatecodeID                      float64\n",
       "store_and_fwd_flag               object\n",
       "PULocationID                      int64\n",
       "DOLocationID                      int64\n",
       "payment_type                      int64\n",
       "fare_amount                     float64\n",
       "extra                           float64\n",
       "mta_tax                         float64\n",
       "tip_amount                      float64\n",
       "tolls_amount                    float64\n",
       "improvement_surcharge           float64\n",
       "total_amount                    float64\n",
       "congestion_surcharge            float64\n",
       "airport_fee                     float64\n",
       "dtype: object"
      ]
     },
     "execution_count": 4,
     "metadata": {},
     "output_type": "execute_result"
    }
   ],
   "source": [
    "df.dtypes"
   ]
  },
  {
   "cell_type": "code",
   "execution_count": 4,
   "id": "bf447123-8738-4f55-a228-cc138e1eea18",
   "metadata": {
    "id": "bf447123-8738-4f55-a228-cc138e1eea18",
    "scrolled": true,
    "tags": []
   },
   "outputs": [],
   "source": [
    "df=df[['tpep_pickup_datetime','tpep_dropoff_datetime','trip_distance','total_amount']]"
   ]
  },
  {
   "cell_type": "code",
   "execution_count": 5,
   "id": "b5d4c318-abe6-4ffb-a97c-38651ccca9fb",
   "metadata": {
    "id": "b5d4c318-abe6-4ffb-a97c-38651ccca9fb",
    "tags": []
   },
   "outputs": [],
   "source": [
    "df.to_csv(\"taxi_2020.csv\",index=False)"
   ]
  },
  {
   "cell_type": "code",
   "execution_count": null,
   "id": "b531a2e7-9f5c-43aa-9da1-2f7d56a7ce3d",
   "metadata": {
    "id": "b531a2e7-9f5c-43aa-9da1-2f7d56a7ce3d"
   },
   "outputs": [],
   "source": []
  }
 ],
 "metadata": {
  "kernelspec": {
   "display_name": "Python 3.11",
   "language": "python",
   "name": "python3"
  },
  "language_info": {
   "codemirror_mode": {
    "name": "ipython",
    "version": 3
   },
   "file_extension": ".py",
   "mimetype": "text/x-python",
   "name": "python",
   "nbconvert_exporter": "python",
   "pygments_lexer": "ipython3",
   "version": "3.11.9"
  }
 },
 "nbformat": 4,
 "nbformat_minor": 5
}
