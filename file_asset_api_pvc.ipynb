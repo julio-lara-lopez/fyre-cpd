{
 "cells": [
  {
   "cell_type": "markdown",
   "id": "53505308-0b8a-4529-8ecb-289ec10101ae",
   "metadata": {
    "id": "2b57f8a3-0fe3-47b1-918c-bc38877e0c48"
   },
   "source": [
    "## Librerias y cpd-cli"
   ]
  },
  {
   "cell_type": "code",
   "execution_count": null,
   "id": "aa610ac7-d950-494a-aa70-d10e0a2cdaee",
   "metadata": {
    "id": "d437434e-b7d1-4641-8c8e-22731dd7bc75",
    "scrolled": true,
    "tags": []
   },
   "outputs": [],
   "source": [
    "#!pip install kubernetes\n",
    "#!pip install pandas\n",
    "#!pip install python-dotenv\n"
   ]
  },
  {
   "cell_type": "code",
   "execution_count": null,
   "id": "42fa8288-0f8a-4bf5-9efd-783677d550bb",
   "metadata": {
    "id": "42fa8288-0f8a-4bf5-9efd-783677d550bb",
    "tags": []
   },
   "outputs": [],
   "source": [
    "#!wget https://github.com/IBM/cpd-cli/releases/download/v13.0.7/cpd-cli-linux-EE-13.1.7.tgz\n",
    "#!tar zxf cpd-cli-linux-EE-13.1.7.tgz\n",
    "#!rm cpd-cli-linux-EE-13.1.7.tgz"
   ]
  },
  {
   "cell_type": "code",
   "execution_count": 8,
   "id": "abd33494-e194-48c2-bffc-0a59a2df8f9a",
   "metadata": {
    "id": "21fa241d-79e6-4580-9d57-0ea69f5a25a0",
    "tags": []
   },
   "outputs": [],
   "source": [
    "from kubernetes import client, config\n",
    "from kubernetes.stream import stream\n",
    "import pandas as pd\n",
    "import re\n",
    "import subprocess\n",
    "import requests\n",
    "import urllib3\n",
    "import os\n",
    "import json\n",
    "from dotenv import load_dotenv\n",
    "#deshabilita alertas\n",
    "urllib3.disable_warnings(urllib3.exceptions.InsecureRequestWarning)"
   ]
  },
  {
   "cell_type": "markdown",
   "id": "61d0b8b9-2059-41fa-9bf2-512a9a7e60bf",
   "metadata": {
    "id": "0740a259-b1ce-4fe0-97c0-5083fc0999ba"
   },
   "source": [
    "## Configuración cpd-cli"
   ]
  },
  {
   "cell_type": "code",
   "execution_count": 4,
   "id": "885a1533-f90f-403d-949e-0c88e2da5a98",
   "metadata": {
    "id": "885a1533-f90f-403d-949e-0c88e2da5a98",
    "tags": []
   },
   "outputs": [
    {
     "name": "stdout",
     "output_type": "stream",
     "text": [
      "configuración de cpd-cli finalizo con exito.\n"
     ]
    }
   ],
   "source": [
    "import os\n",
    "import subprocess\n",
    "\n",
    "# Load .env file\n",
    "load_dotenv(\"config.env\")\n",
    "\n",
    "# Leer variables de entorno de archivo\n",
    "api_key = os.getenv(\"API_KEY\")\n",
    "cpd_username = os.getenv(\"CPD_USERNAME\")\n",
    "local_user = os.getenv(\"LOCAL_USER\")\n",
    "cpd_profile_name = os.getenv(\"CPD_PROFILE_NAME\")\n",
    "cpd_profile_url = os.getenv(\"CPD_PROFILE_URL\")\n",
    "\n",
    "\n",
    "\n",
    "# Exportar variables de entorno\n",
    "os.environ[\"API_KEY\"] = api_key\n",
    "os.environ[\"CPD_USERNAME\"] = cpd_username\n",
    "os.environ[\"LOCAL_USER\"] = local_user\n",
    "os.environ[\"CPD_PROFILE_NAME\"] = cpd_profile_name\n",
    "os.environ[\"CPD_PROFILE_URL\"] = cpd_profile_url\n",
    "\n",
    "\n",
    "# Execute the `cpd-cli` commands\n",
    "try:\n",
    "    subprocess.run(\n",
    "        [\n",
    "            \"./cpd-cli/cpd-cli\", \"config\", \"users\", \"set\", local_user,\n",
    "            \"--username\", cpd_username,\n",
    "            \"--apikey\", api_key\n",
    "        ],\n",
    "        check=True\n",
    "    )\n",
    "\n",
    "    subprocess.run(\n",
    "        [\n",
    "            \"./cpd-cli/cpd-cli\", \"config\", \"profiles\", \"set\", cpd_profile_name,\n",
    "            \"--user\", local_user,\n",
    "            \"--url\", cpd_profile_url\n",
    "        ],\n",
    "        check=True\n",
    "    )\n",
    "\n",
    "    print(\"configuración de cpd-cli finalizo con exito.\")\n",
    "\n",
    "except subprocess.CalledProcessError as e:\n",
    "    print(f\"Error ejecutando cpd-cli: {e}\")\n"
   ]
  },
  {
   "cell_type": "markdown",
   "id": "e68cf75b-2adf-4690-9155-c4dab517bc8e",
   "metadata": {
    "id": "3ac6095d-8df5-4e98-880b-cbc2d3b13b87"
   },
   "source": [
    "## Configuración kubeconfig"
   ]
  },
  {
   "cell_type": "code",
   "execution_count": 5,
   "id": "fb394e21-a6d5-4017-a199-fe9e91411087",
   "metadata": {
    "id": "26ae1fcd-8a04-413e-9814-bd2e20871d05",
    "tags": []
   },
   "outputs": [],
   "source": [
    "# Cargar kubeconfig\n",
    "config.load_kube_config(\"mlops_kubeconfig.yaml\")\n",
    "core_v1_api = client.CoreV1Api()\n",
    "\n",
    "cpd_instance_url = cpd_profile_url  \n",
    "os.environ['cpd_url']=cpd_instance_url\n",
    "username = 'jlara'  # Reemplazar\n",
    "namespace = \"cpd\"  # Reemplazar\n",
    "label_selector = \"app=asset-files-api\"\n",
    "base_paths = [\n",
    "    \"/mnt/asset_file_api/projects\",\n",
    "    \"/mnt/asset_file_api/spaces\"\n",
    "]\n",
    "# Temporales y salida final\n",
    "output_file_intermediate = \"file_sizes.csv\"\n",
    "output_file_with_names = \"file_sizes_with_names.csv\"\n",
    "output_file_final = \"data_proyectos.csv\"\n",
    "output_file_space_deployments = \"space_deployments.csv\"  # For spaces"
   ]
  },
  {
   "cell_type": "markdown",
   "id": "35558343-f23e-45d0-a291-e1549b4f3492",
   "metadata": {
    "id": "fd6cab5a-d393-4129-8576-328e6f1f92e4"
   },
   "source": [
    "## Obtencion data de proyectos"
   ]
  },
  {
   "cell_type": "code",
   "execution_count": 6,
   "id": "8a198bf3-16af-405c-b5b2-bcd45c8e1759",
   "metadata": {
    "id": "8a198bf3-16af-405c-b5b2-bcd45c8e1759",
    "tags": []
   },
   "outputs": [],
   "source": [
    "def get_projects_data(bearer_token):\n",
    "    zen_watchdog_url = f\"{cpd_instance_url}/zen-watchdog/v3/resources/workloads/policies/pretty/projects\"\n",
    "    headers = {\n",
    "        'Authorization': f'Bearer {bearer_token}',\n",
    "        'Accept': 'application/json'\n",
    "    }\n",
    "    response = requests.get(zen_watchdog_url, headers=headers, verify=False)\n",
    "    response.raise_for_status()\n",
    "    return response.json()\n",
    "\n",
    "project_data = get_projects_data(os.environ['USER_ACCESS_TOKEN'])\n",
    "projects = [\n",
    "    {\"ID\": item[\"ID\"], \"Name\": item[\"Name\"]}\n",
    "    for item in project_data[\"requestObj\"][\"Items\"]\n",
    "]\n",
    "projects"
   ]
  },
  {
   "cell_type": "code",
   "execution_count": 26,
   "id": "f3c1d34d-9ed1-4706-b1ee-1cb655dee129",
   "metadata": {
    "id": "f3c1d34d-9ed1-4706-b1ee-1cb655dee129",
    "tags": []
   },
   "outputs": [
    {
     "name": "stdout",
     "output_type": "stream",
     "text": [
      "https://cpd-cpd.apps.cp4d-education-install.cp.fyre.ibm.com/\n"
     ]
    }
   ],
   "source": [
    "print(cpd_instance_url)"
   ]
  },
  {
   "cell_type": "code",
   "execution_count": 29,
   "id": "b67e18bb-eb80-4716-bf07-f40020818a9f",
   "metadata": {
    "id": "b67e18bb-eb80-4716-bf07-f40020818a9f",
    "tags": []
   },
   "outputs": [
    {
     "name": "stdout",
     "output_type": "stream",
     "text": [
      "eyJhbGciOiJSUzI1NiIsInR5cCI6IkpXVCIsImtpZCI6InFsYVZYd3VHdk5JWmQ4Z3dweTRZQzRXVkQzY3I0VURTRko0RmhtY3VsLWsifQ.eyJ1aWQiOiIxMDAwMzMxMDA1IiwidXNlcm5hbWUiOiJqbGFyYSIsInJvbGUiOiJBZG1pbiIsInBlcm1pc3Npb25zIjpbImNyZWF0ZV9wcm9qZWN0IiwiYWRtaW5pc3RyYXRvciIsImNhbl9wcm92aXNpb24iLCJtb25pdG9yX3BsYXRmb3JtIiwiY29uZmlndXJlX3BsYXRmb3JtIiwidmlld19wbGF0Zm9ybV9oZWFsdGgiLCJjb25maWd1cmVfYXV0aCIsIm1hbmFnZV91c2VycyIsIm1hbmFnZV9ncm91cHMiLCJtYW5hZ2Vfc2VydmljZV9pbnN0YW5jZXMiLCJtYW5hZ2VfY2F0YWxvZyIsIm1hbmFnZV92YXVsdHNfYW5kX3NlY3JldHMiLCJzaGFyZV9zZWNyZXRzIiwiYWRkX3ZhdWx0cyIsImNyZWF0ZV9zcGFjZSJdLCJncm91cHMiOlsxMDAwMF0sInN1YiI6ImpsYXJhIiwiaXNzIjoiS05PWFNTTyIsImF1ZCI6IkRTWCIsImFwaV9yZXF1ZXN0Ijp0cnVlLCJpYXQiOjE3MzgyNTE2NTQsImV4cCI6NTMzODI0ODA1NH0.Bnd6Ssic6MwJaE048oCDyEbxCq5IEDz1MSAcbEHNIMzjyx3MNwHSCzAzxyqrWZYlABFTmpYVvwxcW0vilEVb6I1lSA8PdMdpoCoyfqoJ0yqZ5fUxNYHeByYlFgr2hKjSfCGq4Gy0wfatnP5vmdTuCiAuzFxOHt6HzMn5Mo9mCv9FmPVQLVwjE19GILJP0OHwHckFc06MpJ_mykjsd4pgrhhIVFP29chC_Adgb-ubZWrUZ-gVhBhTjd2a_yQjc_rQZrOEDtt139FBx_KPunCSxG6sX8yrRV1HUllrvRjrD4_WN9zq1on5pRVl_P_hxocOjvqxM_lE29BF1LW5-ytrjQ\n"
     ]
    }
   ],
   "source": [
    "print(os.environ['USER_ACCESS_TOKEN'])"
   ]
  },
  {
   "cell_type": "code",
   "execution_count": 31,
   "id": "05ed4220-a420-4bdc-896f-f58970632781",
   "metadata": {
    "id": "05ed4220-a420-4bdc-896f-f58970632781",
    "tags": []
   },
   "outputs": [
    {
     "name": "stdout",
     "output_type": "stream",
     "text": [
      "<Response [200]>\n"
     ]
    }
   ],
   "source": [
    "def get_space_data(bearer_token):\n",
    "    zen_watchdog_url = f\"{cpd_instance_url}#/Spaces/spaces_list\"\n",
    "    headers = {\n",
    "        'Authorization': f\"Bearer {bearer_token}\",\n",
    "        'Accept': 'application/json'\n",
    "    }\n",
    "    response = requests.get(zen_watchdog_url, headers=headers, verify=False)\n",
    "    response.raise_for_status()\n",
    "    return response\n",
    "\n",
    "space_data = get_space_data(os.environ['USER_ACCESS_TOKEN'])\n",
    "print(space_data)\n",
    "#spaces = [\n",
    "#    {\"ID\": item[\"ID\"], \"Name\": item[\"Name\"]}\n",
    "#    for item in space_data[\"requestObj\"][\"Items\"]\n",
    "#]\n",
    "#spaces"
   ]
  },
  {
   "cell_type": "code",
   "execution_count": 33,
   "id": "d4e469df-669a-4c54-9b06-f1b26e2bf85e",
   "metadata": {
    "id": "d4e469df-669a-4c54-9b06-f1b26e2bf85e",
    "tags": []
   },
   "outputs": [
    {
     "data": {
      "text/plain": [
       "'<!doctype html><html lang=\"en\"><head> <style>body {margin: 0;}\\n  .appContainer { display: none }\\n  @keyframes rotate\\n  {\\n    0% {\\n      -webkit-transform: rotate(0deg);\\n      transform: rotate(0deg);\\n    }\\n    100% {\\n      -webkit-transform: rotate(360deg);\\n      transform: rotate(360deg);\\n    }\\n  }\\n  @keyframes skeleton {\\n    0% { width:0; left:0; right:auto; opacity:.3;}\\n    20% { width:100%; left:0; right:auto; opacity:1;}\\n    28% { width:100%;left:auto;right:0;}\\n    51% { width:0; left:auto; right:0;}\\n    58% { width:0; left:auto; right:0;}\\n    82% { width:100%; left:auto; right:0;}\\n    83% { width:100%; left:0; right:auto;}\\n    96%{ width:0; left:0; right:auto;}\\n    to { width:0; left:0; right:auto; opacity:.3;}\\n  }\\n  .outline .appContainer { display: -ms-flexbox; display: flex; -ms-flex-direction: column; flex-direction: column; height: 100%; min-height: calc(100vh - 48px); overflow: auto; background-color: #f9f9f9; overflow: hidden;}\\n  .outline .navigation { color: #fff; height: 50px; transition: height .15s ease-out; z-index: 2;}\\n  .outline .navigation .topContainer { width: 100%; height: 50px; position: fixed; z-index: 1; top: 0; transition: top .15s ease-out; background-color: #343334; display: flex; flex-direction: row; justify-content: space-between;}\\n  .outline .navigation .topContainer .topLeft { display: -ms-flexbox; display: flex; align-items: center; height: 100%;}\\n  .outline .navigation .topContainer .topLeft .topProductIcon { border-right: 1px solid #272727; width: 50px; height: 100%; display: -ms-flexbox; display: flex; -ms-flex-direction: row; flex-direction: row; justify-content: center; align-items: center;}\\n  .outline .navigation .topContainer .topLeft .topProductName { padding: 0 20px; font-family: \\'IBM Plex Sans\\', \\'Helvetica Neue\\', Arial, sans-serif; font-size: 16px; font-weight: 300}\\n  .outline .navigation .topContainer .topActions {  display: -ms-flexbox; display: flex; align-items: center; height: 100%;}\\n  .outline .navigation .topContainer .topActions .topIcon { height: 100%; padding: 0 17px;  display: -ms-flexbox; display: flex; align-items: center;}\\n  .outline .navigation .leftMainContainer { margin-top: 50px; width: fit-content; width: -moz-fit-content; padding-top: 0; transition: padding-top .15s ease-out;}\\n  .outline .navigation .leftContainer {  display: -ms-flexbox; display: flex; -ms-flex-direction: column; flex-direction: column; align-items: center;z-index: 501; overflow-y: auto; height: calc(100vh - 48px); width: 50px; position: fixed; left: 0; background-color: #fff; overflow-x: hidden; box-shadow: 0 3px 6px #b2b2b2;}\\n  .outline .navigation .leftContainer .leftButton { display: -ms-flexbox; display: flex; -ms-flex-direction: column; flex-direction: column; align-items: center; width: 100%; border-bottom: 1px solid #e0e0e0;}\\n  .outline .navigation .leftContainer .leftButton .icon--skeleton { margin-top: 10px; margin-bottom: 10px;}\\n  .outline .pageContainer { width: 100%; height: 100%; flex-grow: 1; position: relative;}\\n  .outline .pageContainer .loading { width: 10.5rem; height: 10.5rem; position: absolute; top: calc(50% - 84px); left: calc(50% - 84px); -webkit-animation-name: rotate; animation-name: rotate; -webkit-animation-duration: 500ms; animation-duration: 500ms; -webkit-animation-timing-function: linear; animation-timing-function: linear; -webkit-animation-fill-mode: forwards; animation-fill-mode: forwards; -webkit-animation-iteration-count: infinite; animation-iteration-count: infinite;}\\n  .outline .pageContainer .loading svg { fill: transparent; stroke: #0f62fe; stroke-width: 7px; stroke-linecap: butt; stroke-dasharray: 240; stroke-dashoffset: 40px;}\\n  .outline .icon--skeleton { width: 30px; height: 30px; position: relative; border: none; padding: 0; box-shadow: none; pointer-events: none; background: rgba(61, 112, 178, 0.1); display: inline-block;}\\n  .outline .icon--skeleton:before { content: \"\"; width: 0; height: 100%; position: absolute; top: 0; left: 0; opacity: .3; background: rgba(61,112,178,.1); animation: 3s ease-in-out skeleton infinite;}</style> <script>var PRODUCT=\\'zen\\';\\n      var IBM_PRODUCT_NAME=\\'IBM Cloud Pak for Data\\';\\n      var IBM_DEFAULT_PRODUCT_NAME=\\'IBM Cloud Pak for Data\\';\\n      var DEPLOYMENT_TARGET=\\'icp4data\\';\\n\\n      var OBJECT_STORE_CONFIG=\\'ibm-zen-configuration\\';\\n      var PRODUCT_BROWSER_ICON_FILE=\\'\\';\\n      var PRODUCT_BROWSER_ICON_SOURCE_FILE=\\'\\';\\n\\n      var PRODUCT_LOGO_FILE=\\'\\';\\n      var PRODUCT_LOGO_SOURCE_FILE=\\'\\';\\n      var PRODUCT_LOGO_CLASS=\\'\\';\\n\\n      var PRODUCT_HOMEPAGE_IMAGE_FILE=\\'\\';\\n      var PRODUCT_HOMEPAGE_IMAGE_SOURCE_FILE=\\'\\';\\n      var PRODUCT_HOMEPAGE_IMAGE_CLASS=\\'\\';\\n\\n      var PRODUCT_LOGIN_IMAGE_FILE=\\'\\';\\n      var PRODUCT_LOGIN_IMAGE_SOURCE_FILE=\\'\\';\\n      var PRODUCT_LOGIN_IMAGE_SOURCE_CLASS=\\'\\';\\n\\n      var MINIO_ENDPOINT=\\'\\';\\n\\n      var HEADLESS=\\'false\\';\\n      var ASSIST_ME_ENABLED=\\'False\\';\\n\\n      if (!window.zen) {\\n        window.zen = {};\\n      }\\n      window.zen.csrf_token = \\'\\';</script><script>window.onload = () => {\\n          document\\n            .querySelectorAll(\".stylesheet-link\")\\n            .forEach((el) => (el.rel = \"stylesheet\"));\\n        };\\n        document.documentElement.setAttribute(\\n          \"data-theme-select\",\\n          localStorage.getItem(\"theme-select\")\\n        );</script>  <script>function loadWalkMe() {\\n    var walkme = document.createElement(\\'script\\');\\n    walkme.type = \\'text/javascript\\';\\n    walkme.async = true;\\n    walkme.src = window.userPreferences?.guided_tours?.details?.lite_tours_src;\\n    var s = document.getElementsByTagName(\\'script\\')[0];\\n    s.parentNode.insertBefore(walkme, s);\\n    window._walkmeConfig = {smartLoad:true};\\n    // Get language code (window.languageCode set in index.js, where langauge selection is handled)\\n    window.walkme_get_language = function (){ return window.languageCode || \\'en\\'; };\\n  };</script>  <title>IBM Cloud Pak for Data</title>  <link rel=\"stylesheet\" href=\"/v2/nav/css/nav-carbon10.min.css\"/>  </head><body>  <header id=\"dapNav\" aria-label=\\'Global navigation\\' data-userid=\"jlara\" class=\"icp4data-menu\" data-deployment-target=\"icp4data\" data-product-title=\"IBM Cloud Pak for Data\" data-version=\"5.1.9 Enterprise\" data-context-search-href=\"/data/search?search_input=__TERM__&amp;search_scope=__SCOPE__\" data-context-search-suggestions-href=\"/data/search/api/search-suggestions?search_input=__TERM__&amp;search_scope=__SCOPE__\" data-context-search-facets-href=\"/data/search/api/search_facet\" data-context-saved-searches-href=\"\" data-username=\"jlara\" data-user-display-name=\"\" data-user-email=\"jlara\" data-user-permissions=\"[&quot;create_project&quot;,&quot;administrator&quot;,&quot;can_provision&quot;,&quot;monitor_platform&quot;,&quot;configure_platform&quot;,&quot;view_platform_health&quot;,&quot;configure_auth&quot;,&quot;manage_users&quot;,&quot;manage_groups&quot;,&quot;manage_service_instances&quot;,&quot;manage_catalog&quot;,&quot;manage_vaults_and_secrets&quot;,&quot;share_secrets&quot;,&quot;add_vaults&quot;,&quot;create_space&quot;]\" data-segment-key=\"\" data-nav-assist-me-options=\"{&quot;productRelease&quot;:&quot;4.8&quot;,&quot;productId&quot;:&quot;b42cbd9e6ec8ef217e009452d9ce33be&quot;,&quot;productName&quot;:&quot;IBM Cloud Pak for Data&quot;}\" data-request-user=\"1000331005\" data-authenticated=\"true\" data-skin=\"carbon10\"data-context-url=\"/zen/#/homepage\"data-notifications-requested=\"\"data-full-sanitizer=\"\"data-context=\"icp4data\"data-is-production=\"true\"data-cloud-pak-switcher-url=\"/zen-data/ui/v1/cloud_paks\"data-cloud-pak-instance-id=\"681c72df-c776-4252-8a29-65a08bba020a\"data-external-message-format=\"/v2/nav/js/intl-messageformat.7.8.2.min.eb8d0a623b9b90d792bd.js\"data-external-purify=\"/v2/nav/js/purify.2.4.0.min.e967798bbcdc76925653.js\"data-requested-language=\"en\"><script id=\"dapNavIntlClientMessages\" type=\"application/json\">{\"locales\":\"en-US\",\"messages\":{\"CommonHeader.profile.trial\":\"Your {title} trial {days, plural, =0 {has ended} one {ends tomorrow} other {ends in {days} days}}.\",\"CommonHeader.common.regions\":\"Regions\",\"CommonHeader.common.region.view.less\":\"View less\",\"CommonHeader.common.region.view.more\":\"View all regions\",\"CommonHeader.common.region.recent\":\"Recently accessed regions\",\"CommonHeader.common.region.ibm\":\"IBM regions\",\"CommonHeader.common.region.ibm.us-south.name\":\"Dallas\",\"CommonHeader.common.region.ibm.eu-gb.name\":\"London\",\"CommonHeader.common.region.ibm.jp-tok.name\":\"Tokyo\",\"CommonHeader.common.region.ibm.eu-de.name\":\"Frankfurt\",\"CommonHeader.common.region.ibm.us-south.name.full\":\"US (Dallas)\",\"CommonHeader.common.region.ibm.eu-gb.name.full\":\"UK (London)\",\"CommonHeader.common.region.ibm.jp-tok.name.full\":\"Asia Pacific (Tokyo)\",\"CommonHeader.common.region.ibm.eu-de.name.full\":\"Europe (Frankfurt)\",\"CommonHeader.common.region.aws\":\"AWS regions\",\"CommonHeader.common.region.aws.us-east-1.name\":\"N. Virginia\",\"CommonHeader.common.region.aws.us-east-2.name\":\"Ohio\",\"CommonHeader.common.region.aws.us-west-2.name\":\"N. California\",\"CommonHeader.common.region.aws.us-east-1.name.full\":\"US East (N. Virginia)\",\"CommonHeader.common.region.aws.us-east-2.name.full\":\"US East (Ohio)\",\"CommonHeader.common.region.aws.us-west-2.name.full\":\"US West (N. California)\",\"CommonHeader.announcement.label\":\"Announcement\",\"CommonHeader.client.error.generic\":\"Something went wrong. Please try again or contact the IBM help desk.\",\"CommonHeader.client.accountChangeError\":\"Error while changing account\",\"CommonHeader.client.search.recentTitle\":\"Recent searches\",\"CommonHeader.client.search.savedTitle\":\"Saved searches\",\"CommonHeader.client.search.seeMoreSaved\":\"See more saved searches\",\"CommonHeader.client.search.suggestionsTitle\":\"Suggestions\",\"CommonHeader.client.search.facetsTitle\":\"Try searching for...\",\"CommonHeader.client.trial.days\":\"Your trial ends in {number} days\",\"CommonHeader.client.trial.tomorrow\":\"Your trial ends tomorrow\",\"CommonHeader.client.trial.subtitle\":\"When your trial ends, your data will not be erased but you will no longer be able to use {productTitle}.\",\"CommonHeader.client.trial.bannerTitle\":\"Upgrade your account\",\"CommonHeader.client.watsonStudio\":\"Watson Studio\",\"CommonHeader.client.noAccountSelected\":\"No account selected\",\"CommonHeader.client.noRecentProjects\":\"No recent projects\",\"CommonHeader.client.noRecentCatalogs\":\"No recent catalogs\",\"CommonHeader.client.noRecentSpaces\":\"No recent spaces\",\"CommonHeader.client.unsupportedBrowserTitle\":\"Unsupported browser\",\"CommonHeader.client.unsupportedBrowserSubtitle\":\"For optimal results, use a Chrome, Firefox, or Edge browser.\",\"CommonHeader.client.sessionExpiryTitle\":\"Your session is about to expire\",\"CommonHeader.client.sessionExpirySubtitle\":\"Your session will end in about {time, plural, =0 {less than one minute} =1 {one minute} other {# minutes}}.\",\"CommonHeader.client.sessionExpiryInactiveSubtitle\":\"Your session will end in about {time, plural, =0 {less than one minute} =1 {one minute} other {# minutes}} due to inactivity.\",\"CommonHeader.client.today\":\"Today\",\"CommonHeader.client.yesterday\":\"Yesterday\",\"CommonHeader.client.at\":\"at\",\"CommonHeader.client.showMore\":\"Show more\",\"CommonHeader.client.timestamp\":\"Timestamp\",\"CommonHeader.client.notification.you\":\"you\",\"CommonHeader.client.notification.userNotFound\":\"User not found\",\"CommonHeader.client.notification.severity.minor\":\"Minor\",\"CommonHeader.client.notification.severity.warning\":\"Warning\",\"CommonHeader.client.notification.severity.major\":\"Major\",\"CommonHeader.client.notification.severity.critical\":\"Critical\",\"CommonHeader.client.notification.severity.information\":\"Information\",\"CommonHeader.client.upgradeTooltip\":\"{num} days of trial left. Upgrade now!\",\"CommonHeader.client.globalSearch.facet.glossary_term\":\"Business term\",\"CommonHeader.client.globalSearch.facet.data_asset\":\"Data\",\"CommonHeader.client.globalSearch.facet.category\":\"Category\",\"CommonHeader.client.globalSearch.facet.notebook\":\"Notebook\",\"CommonHeader.client.globalSearch.facet.model\":\"Model\",\"CommonHeader.header.upgrade\":\"Upgrade\",\"CommonHeader.common.settings\":\"Settings\",\"CommonHeader.common.description\":\"Description\",\"CommonHeader.common.date\":\"Date\",\"CommonHeader.common.back\":\"Back\",\"CommonHeader.common.cancel\":\"Cancel\",\"CommonHeader.common.save\":\"Save\",\"CommonHeader.common.done\":\"Done\",\"CommonHeader.common.getStarted\":\"Get started\",\"CommonHeader.common.viewProject\":\"View project\",\"CommonHeader.common.add\":\"Add\",\"CommonHeader.common.createNew\":\"Create new\",\"CommonHeader.common.project\":\"Project\",\"CommonHeader.common.notebook\":\"Notebook\",\"CommonHeader.common.import\":\"Import\",\"CommonHeader.common.closeButton\":\"Close button\",\"CommonHeader.common.globalNav\":\"Global navigation\",\"CommonHeader.common.actionBar\":\"Action bar\",\"CommonHeader.common.addOns\":\"Addons\"}}</script><div class=\"dap-menu-wrapper icp4data-menu\"><div id=\"sidemenu-toggle-button\" class=\"sidemenu-toggle\"><a class=\"sidemenu-button\" href=\"#\" aria-label=\\'Side menu button\\' data-open-label=\"Side menu button\" data-close-label=\"Close side menu button\"><svg id=\"sidemenu-closed-icon\" focusable=\"false\" preserveAspectRatio=\"xMidYMid meet\"xmlns=\"http://www.w3.org/2000/svg\" width=\"20\" height=\"20\"viewBox=\"0 0 20 20\" aria-hidden=\"true\" style=\"will-change: transform;\"><path d=\"M2 14.8h16V16H2zm0-3.6h16v1.2H2zm0-3.6h16v1.2H2zM2 4h16v1.2H2z\"></path></svg><svg id=\"sidemenu-open-icon\" focusable=\"false\" preserveAspectRatio=\"xMidYMid meet\"xmlns=\"http://www.w3.org/2000/svg\" width=\"20\" height=\"20\"viewBox=\"0 0 32 32\" aria-hidden=\"true\" style=\"will-change: transform;\">\\t<path d=\"M24 9.4L22.6 8 16 14.6 9.4 8 8 9.4l6.6 6.6L8 22.6 9.4 24l6.6-6.6 6.6 6.6 1.4-1.4-6.6-6.6L24 9.4z\"></path></svg></a><div id=\"sidemenu-toggle-tooltip\" class=\"header-tooltip\">Navigation Menu</div></div><div class=\"dap-nav-title\"><a class=\"dap-nav-title-link\" href=\"/zen/#/homepage\"><span class=\"dap-nav-title-context icp4d \"><span class=\"desktop-title\"><span class=\"normal-title\">IBM</span>&nbsp;Cloud Pak for Data</span><span class=\"mobile-title\"><span class=\"normal-title\">IBM</span>&nbsp;Cloud Pak for Data</span></span></a></div><div class=\"dap-title-separator\"></div><div class=\"dap-unified-search-container\" data-has-search-value=\"false\"><div class=\"dap-search-text\"><div id=\"dap-search-input-container\"><div id=\"dap-search-icon\" title=\\'Search\\'><svg focusable=\"false\" preserveAspectRatio=\"xMidYMid meet\" xmlns=\"http://www.w3.org/2000/svg\" fill=\"currentColor\" width=\"32\" height=\"32\" viewBox=\"0 0 32 32\" aria-hidden=\"true\"><path d=\"M29,27.5859l-7.5521-7.5521a11.0177,11.0177,0,1,0-1.4141,1.4141L27.5859,29ZM4,13a9,9,0,1,1,9,9A9.01,9.01,0,0,1,4,13Z\"></path><title>Search</title></svg></div><input id=\"dap-search-input\" type=\"search\" placeholder=\\'Search\\' value=\"\" autocomplete=\"off\" aria-labelledby=\"dap-search-icon\" maxlength=\"150\"><a href=\"#\" id=\"dap-search-close\" title=\"Clear\"><svg focusable=\"false\" preserveAspectRatio=\"xMidYMid meet\" xmlns=\"http://www.w3.org/2000/svg\" fill=\"currentColor\" width=\"32\" height=\"32\" viewBox=\"0 0 32 32\" aria-hidden=\"true\"><path d=\"M24 9.4L22.6 8 16 14.6 9.4 8 8 9.4 14.6 16 8 22.6 9.4 24 16 17.4 22.6 24 24 22.6 17.4 16 24 9.4z\"></path></svg></a></div><div id=\"dap-search-dropdown-panel\" class=\"\"><div id=\"dap-search-dropdown-loading-skeleton\" class=\"hidden\"><div><span class=\"nav--loading nav--loading-short\"></span></div><div><span class=\"nav--loading nav--loading-circle\"></span><span class=\"nav--loading\"></span></div><div><span class=\"nav--loading nav--loading-circle\"></span><span class=\"nav--loading\"></span></div></div><div id=\"dap-search-input-value-shortcut\"><svg focusable=\"false\" preserveAspectRatio=\"xMidYMid meet\" xmlns=\"http://www.w3.org/2000/svg\" fill=\"currentColor\" width=\"32\" height=\"32\" viewBox=\"0 0 32 32\" aria-hidden=\"true\"><path d=\"M29,27.5859l-7.5521-7.5521a11.0177,11.0177,0,1,0-1.4141,1.4141L27.5859,29ZM4,13a9,9,0,1,1,9,9A9.01,9.01,0,0,1,4,13Z\"></path><title>Search</title></svg><a href=\"#\" data-type=\"value-shortcut\"></a></div><ul id=\"dap-search-facets\"></ul><ul id=\"dap-search-aliases\"></ul><ul id=\"dap-search-suggestions\"></ul><ul id=\"dap-search-history\"></ul><div id=\"dap-search-learn-about-footer\"><a href=\"/data/search/?search_input=&search_scope=all&learn=true\"><svg focusable=\"false\" preserveAspectRatio=\"xMidYMid meet\" xmlns=\"http://www.w3.org/2000/svg\" fill=\"currentColor\" width=\"32\" height=\"32\" viewBox=\"0 0 32 32\" aria-hidden=\"true\"><path d=\"M17 22L17 14 13 14 13 16 15 16 15 22 12 22 12 24 20 24 20 22 17 22zM16 8a1.5 1.5 0 101.5 1.5A1.5 1.5 0 0016 8z\"></path><path d=\"M16,30A14,14,0,1,1,30,16,14,14,0,0,1,16,30ZM16,4A12,12,0,1,0,28,16,12,12,0,0,0,16,4Z\"></path></svg><span>Learn about search</span></a></div></div><div class=\"\" id=\"dap-search-icon-collapsed\"><div class=\"dap-search-icon-link\"><a href=\"#\" aria-label=\\'Search\\'><svg focusable=\"false\" preserveAspectRatio=\"xMidYMid meet\" xmlns=\"http://www.w3.org/2000/svg\" fill=\"currentColor\" width=\"32\" height=\"32\" viewBox=\"0 0 32 32\" aria-hidden=\"true\"><path d=\"M29,27.5859l-7.5521-7.5521a11.0177,11.0177,0,1,0-1.4141,1.4141L27.5859,29ZM4,13a9,9,0,1,1,9,9A9.01,9.01,0,0,1,4,13Z\"></path><title>Search</title></svg></a></div><div class=\"header-tooltip header-tooltip-icon align-start\">Search</div></div></div></div><div class=\"dap-nav-features\"><div class=\"dap-dropdown-container hidden\" id=\"dap-launch-tour\"><div class=\"tour-button dap-docs\"><a href=\"#\" aria-label=\\'Tours\\'><svg id=\"icon\" xmlns=\"http://www.w3.org/2000/svg\" width=\"32\" height=\"32\" viewBox=\"0 0 32 32\"><path d=\"M26.5859,6.5859A1.9862,1.9862,0,0,0,25.1719,6H17V2H15V12H6.8281a1.9862,1.9862,0,0,0-1.414.5859L2,16l3.4141,3.4141A1.9862,1.9862,0,0,0,6.8281,20H15V30h2V14h8.1719a1.9862,1.9862,0,0,0,1.414-.5859L30,10ZM6.8281,18l-2-2,2-2H15v4Zm18.3438-6H17V8h8.1719l2,2Z\" /></svg></a></div><div class=\"header-tooltip header-tooltip-icon\">Tours</div></div><div class=\\'dap-dropdown-container dap-notifications hidden\\' id=\"nav-notification-bell\"><a class=\"notifications-button\" href=\"#\" aria-label=\\'Notifications\\'><svg width=\"18px\" height=\"19px\" viewBox=\"0 0 18 19\" xmlns=\"http://www.w3.org/2000/svg\" xmlns:xlink=\"http://www.w3.org/1999/xlink\"><!-- Generator: Sketch 49.1 (51147) - http://www.bohemiancoding.com/sketch --><defs><path d=\"M16.06875,12.05625 L14.375,10.36875 L14.375,7.5 C14.3750403,4.29021671 11.9436941,1.60222833 8.75,1.28125 L8.75,0 L7.5,0 L7.5,1.28125 C4.30630595,1.60222833 1.87495968,4.29021671 1.875,7.5 L1.875,10.36875 L0.18125,12.05625 C0.0642584285,12.1741993 -0.00096047425,12.3338731 -5.34988737e-14,12.5 L-5.34988737e-14,14.375 C-5.34988737e-14,14.720178 0.279822031,15 0.625,15 L5,15 C5,16.7258898 6.39911016,18.125 8.125,18.125 C9.85088984,18.125 11.25,16.7258898 11.25,15 L15.625,15 C15.970178,15 16.25,14.720178 16.25,14.375 L16.25,12.5 C16.2509605,12.3338731 16.1857416,12.1741993 16.06875,12.05625 Z M8.125,16.875 C7.08946609,16.875 6.25,16.0355339 6.25,15 L10,15 C10,16.0355339 9.16053391,16.875 8.125,16.875 Z M15,13.75 L1.25,13.75 L1.25,12.75625 L2.94375,11.0625 C3.0592151,10.9460871 3.12430961,10.7889624 3.125,10.625 L3.125,7.5 C3.125,4.73857625 5.36357625,2.5 8.125,2.5 C10.8864237,2.5 13.125,4.73857625 13.125,7.5 L13.125,10.625 C13.1240395,10.7911269 13.1892584,10.9508007 13.30625,11.06875 L15,12.75625 L15,13.75 Z\" id=\"bell-path-1\"></path></defs><g stroke=\"none\" stroke-width=\"1\" fill=\"none\" fill-rule=\"evenodd\"><g id=\"Page-5-Copy\" transform=\"translate(-1513.000000, -365.000000)\"><g id=\"icon/toggle/notification/20\" transform=\"translate(1512.000000, 365.000000)\"><g><g id=\"notification\" transform=\"translate(1.875000, 0.625000)\"><mask id=\"mask-2\" fill=\"white\"><use xlink:href=\"#bell-path-1\"></use></mask><use id=\"Mask\" fill=\"#000000\" fill-rule=\"nonzero\" xlink:href=\"#bell-path-1\"></use><g id=\"color/cool-gray/10\" mask=\"url(#mask-2)\"><g transform=\"translate(-1.875000, -0.625000)\"></g></g></g><rect id=\"transparent-rectangle\" x=\"0\" y=\"0\" width=\"20\" height=\"20\"></rect></g></g></g></g></svg><div class=\"header-tooltip\">Notifications</div></a><span class=\"counter hidden\"></span><div class=\"notification-popup hidden\"><svg class=\\'popup-arrow\\' x=\\'0px\\' y=\\'0px\\' viewBox=\\'0 0 16 9\\'><polyline points=\\'0,9 8,0 16,9\\'/></svg><div class=\\'content\\'><div class=\\'no-notification-view hidden\\'><div class=\\'notifications-header\\'><div class=\\'title\\'>Notifications</div><a class=\\'settings-button\\' href=\\'/notifications/settings?context=icp4data\\'><svg focusable=\"false\" preserveAspectRatio=\"xMidYMid meet\" xmlns=\"http://www.w3.org/2000/svg\" width=\"32\" height=\"32\" viewBox=\"0 0 32 32\" aria-hidden=\"true\"><path d=\"M27,16.76c0-.25,0-.5,0-.76s0-.51,0-.77l1.92-1.68A2,2,0,0,0,29.3,11L26.94,7a2,2,0,0,0-1.73-1,2,2,0,0,0-.64.1l-2.43.82a11.35,11.35,0,0,0-1.31-.75l-.51-2.52a2,2,0,0,0-2-1.61H13.64a2,2,0,0,0-2,1.61l-.51,2.52a11.48,11.48,0,0,0-1.32.75L7.43,6.06A2,2,0,0,0,6.79,6,2,2,0,0,0,5.06,7L2.7,11a2,2,0,0,0,.41,2.51L5,15.24c0,.25,0,.5,0,.76s0,.51,0,.77L3.11,18.45A2,2,0,0,0,2.7,21L5.06,25a2,2,0,0,0,1.73,1,2,2,0,0,0,.64-.1l2.43-.82a11.35,11.35,0,0,0,1.31.75l.51,2.52a2,2,0,0,0,2,1.61h4.72a2,2,0,0,0,2-1.61l.51-2.52a11.48,11.48,0,0,0,1.32-.75l2.42.82a2,2,0,0,0,.64.1,2,2,0,0,0,1.73-1L29.3,21a2,2,0,0,0-.41-2.51ZM25.21,24l-3.43-1.16a8.86,8.86,0,0,1-2.71,1.57L18.36,28H13.64l-.71-3.55a9.36,9.36,0,0,1-2.7-1.57L6.79,24,4.43,20l2.72-2.4a8.9,8.9,0,0,1,0-3.13L4.43,12,6.79,8l3.43,1.16a8.86,8.86,0,0,1,2.71-1.57L13.64,4h4.72l.71,3.55a9.36,9.36,0,0,1,2.7,1.57L25.21,8,27.57,12l-2.72,2.4a8.9,8.9,0,0,1,0,3.13L27.57,20Z\"></path><path d=\"M16,22a6,6,0,1,1,6-6A5.94,5.94,0,0,1,16,22Zm0-10a3.91,3.91,0,0,0-4,4,3.91,3.91,0,0,0,4,4,3.91,3.91,0,0,0,4-4A3.91,3.91,0,0,0,16,12Z\"></path></svg></a></div><div class=\\'message\\'><svg xmlns=\"http://www.w3.org/2000/svg\" xmlns:xlink=\"http://www.w3.org/1999/xlink\" viewBox=\"0 0 90 90\"><defs><style>.cls-1{fill:#a3a3a3;}.cls-2{fill:url(#linear-gradient);}.cls-3{fill:#6f6f6f;}.cls-4{fill:#bdbdbd;}.cls-5{fill:#8b8b8b;}.cls-6{fill:url(#linear-gradient-2);}.cls-7{fill:url(#linear-gradient-3);}.cls-8{fill:#dbdbdb;}</style><linearGradient id=\"linear-gradient\" x1=\"27.85\" y1=\"59.23\" x2=\"48.9\" y2=\"59.23\" gradientUnits=\"userSpaceOnUse\"><stop offset=\"0\" stop-color=\"#666\"/><stop offset=\"1\" stop-color=\"#333\"/></linearGradient><linearGradient id=\"linear-gradient-2\" x1=\"37.96\" y1=\"71.54\" x2=\"41.66\" y2=\"65.14\" gradientUnits=\"userSpaceOnUse\"><stop offset=\"0\" stop-color=\"#a4a4a4\"/><stop offset=\"1\" stop-color=\"#565656\"/></linearGradient><linearGradient id=\"linear-gradient-3\" x1=\"42.26\" y1=\"51.77\" x2=\"45.96\" y2=\"45.37\" gradientUnits=\"userSpaceOnUse\"><stop offset=\"0\" stop-color=\"#a4a4a4\"/><stop offset=\"1\" stop-color=\"#3d3d3d\"/></linearGradient></defs><title>Empty State - Nothing (small 90px)</title><g id=\"Exploration\"><polygon class=\"cls-1\" points=\"27.17 35.5 49.59 48.45 49.59 82.96 27.17 70.02 27.17 35.5\"/><polygon class=\"cls-2\" points=\"27.85 36.96 48.9 49.11 48.9 81.51 27.85 69.36 27.85 36.96\"/><polygon class=\"cls-3\" points=\"40.3 86.48 60.37 74.89 60.37 62.35 40.3 73.94 40.3 86.48\"/><polygon class=\"cls-4\" points=\"60.37 62.35 39.32 50.2 19.25 61.78 40.3 73.93 60.37 62.35\"/><polygon class=\"cls-3\" points=\"39.36 63.81 39.36 51.27 21.21 61.75 31.97 68.08 39.36 63.81\"/><polygon class=\"cls-5\" points=\"58.51 62.32 47.65 68.59 39.36 63.81 39.36 51.27 58.51 62.32\"/><polygon class=\"cls-6\" points=\"47.65 68.59 40.25 72.86 31.97 68.08 39.36 63.81 47.65 68.59\"/><polygon class=\"cls-3\" points=\"44.6 66.71 64.67 55.12 64.67 42.58 44.6 54.17 44.6 66.71\"/><polygon class=\"cls-4\" points=\"64.67 42.58 43.62 30.43 23.55 42.01 44.6 54.16 64.67 42.58\"/><polygon class=\"cls-3\" points=\"43.66 44.04 43.66 31.5 25.51 41.98 36.27 48.31 43.66 44.04\"/><polygon class=\"cls-5\" points=\"62.81 42.55 51.95 48.82 43.66 44.04 43.66 31.5 62.81 42.55\"/><polygon class=\"cls-7\" points=\"51.95 48.82 44.55 53.09 36.27 48.31 43.66 44.04 51.95 48.82\"/><polygon class=\"cls-4\" points=\"22.86 38.34 28.61 41.65 30.66 44.9 37.49 48.85 39.54 47.96 45.29 51.28 45.29 67.79 22.86 54.84 22.86 38.34\"/><polygon class=\"cls-1\" points=\"22.29 38.66 28.04 41.98 30.08 45.23 36.92 49.18 38.97 48.29 44.72 51.61 44.72 68.12 22.29 55.17 22.29 38.66\"/><polygon class=\"cls-5\" points=\"45.29 51.28 44.72 51.61 44.72 68.12 45.29 67.79 45.29 51.28\"/><polygon class=\"cls-8\" points=\"30.66 44.9 30.08 45.23 36.92 49.18 37.49 48.85 30.66 44.9\"/><polygon class=\"cls-8\" points=\"22.86 38.34 22.29 38.66 28.04 41.98 28.61 41.65 22.86 38.34\"/><polygon class=\"cls-8\" points=\"45.29 51.28 39.54 47.96 38.97 48.29 44.72 51.61 45.29 51.28\"/><polygon class=\"cls-4\" points=\"28.61 41.65 28.04 41.98 30.08 45.23 30.66 44.9 28.61 41.65\"/><polygon class=\"cls-8\" points=\"37.49 48.85 39.54 47.96 38.97 48.29 36.92 49.18 37.49 48.85\"/><polygon class=\"cls-4\" points=\"18.56 58.11 24.31 61.42 26.36 64.67 33.19 68.62 35.24 67.73 40.99 71.05 40.99 87.56 18.56 74.61 18.56 58.11\"/><polygon class=\"cls-1\" points=\"17.99 58.43 23.73 61.75 25.78 65 32.62 68.95 34.67 68.06 40.41 71.38 40.41 87.89 17.99 74.94 17.99 58.43\"/><polygon class=\"cls-5\" points=\"40.99 71.05 40.41 71.38 40.41 87.89 40.99 87.56 40.99 71.05\"/><polygon class=\"cls-8\" points=\"26.36 64.67 25.78 65 32.62 68.95 33.19 68.62 26.36 64.67\"/><polygon class=\"cls-8\" points=\"18.56 58.11 17.99 58.43 23.73 61.75 24.31 61.42 18.56 58.11\"/><polygon class=\"cls-8\" points=\"40.99 71.05 35.24 67.73 34.67 68.06 40.41 71.38 40.99 71.05\"/><polygon class=\"cls-4\" points=\"24.31 61.42 23.73 61.75 25.78 65 26.36 64.67 24.31 61.42\"/><polygon class=\"cls-8\" points=\"33.19 68.62 35.24 67.73 34.67 68.06 32.62 68.95 33.19 68.62\"/><polygon class=\"cls-5\" points=\"72.01 70.02 49.59 82.96 49.59 48.45 72.01 35.5 72.01 70.02\"/><polygon class=\"cls-1\" points=\"48.9 65.59 48.9 81.51 49.59 82.96 49.59 65.33 49.02 65.66 48.9 65.59\"/><polygon class=\"cls-8\" points=\"49.59 22.55 27.17 35.5 49.59 48.45 72.01 35.5 49.59 22.55\"/><polygon class=\"cls-1\" points=\"27.85 36.96 48.9 49.11 48.9 65.59 49.02 65.66 49.59 65.33 49.59 48.45 27.17 35.5 27.17 39.93 27.85 39.53 27.85 36.96\"/></g></svg>You have no notifications yet.</div></div><div class=\\'single-notification-view hidden\\'><div class=\"notification\"></div><div class=\"close-button\" aria-label=\\'Close button\\'>&#xd7;</div></div><div class=\\'notification-group-view hidden\\'><div class=\\'icon\\'><svg width=\"18px\" height=\"19px\" viewBox=\"0 0 18 19\" xmlns=\"http://www.w3.org/2000/svg\" xmlns:xlink=\"http://www.w3.org/1999/xlink\"><!-- Generator: Sketch 49.1 (51147) - http://www.bohemiancoding.com/sketch --><defs><path d=\"M16.06875,12.05625 L14.375,10.36875 L14.375,7.5 C14.3750403,4.29021671 11.9436941,1.60222833 8.75,1.28125 L8.75,0 L7.5,0 L7.5,1.28125 C4.30630595,1.60222833 1.87495968,4.29021671 1.875,7.5 L1.875,10.36875 L0.18125,12.05625 C0.0642584285,12.1741993 -0.00096047425,12.3338731 -5.34988737e-14,12.5 L-5.34988737e-14,14.375 C-5.34988737e-14,14.720178 0.279822031,15 0.625,15 L5,15 C5,16.7258898 6.39911016,18.125 8.125,18.125 C9.85088984,18.125 11.25,16.7258898 11.25,15 L15.625,15 C15.970178,15 16.25,14.720178 16.25,14.375 L16.25,12.5 C16.2509605,12.3338731 16.1857416,12.1741993 16.06875,12.05625 Z M8.125,16.875 C7.08946609,16.875 6.25,16.0355339 6.25,15 L10,15 C10,16.0355339 9.16053391,16.875 8.125,16.875 Z M15,13.75 L1.25,13.75 L1.25,12.75625 L2.94375,11.0625 C3.0592151,10.9460871 3.12430961,10.7889624 3.125,10.625 L3.125,7.5 C3.125,4.73857625 5.36357625,2.5 8.125,2.5 C10.8864237,2.5 13.125,4.73857625 13.125,7.5 L13.125,10.625 C13.1240395,10.7911269 13.1892584,10.9508007 13.30625,11.06875 L15,12.75625 L15,13.75 Z\" id=\"bell-path-1\"></path></defs><g stroke=\"none\" stroke-width=\"1\" fill=\"none\" fill-rule=\"evenodd\"><g id=\"Page-5-Copy\" transform=\"translate(-1513.000000, -365.000000)\"><g id=\"icon/toggle/notification/20\" transform=\"translate(1512.000000, 365.000000)\"><g><g id=\"notification\" transform=\"translate(1.875000, 0.625000)\"><mask id=\"mask-2\" fill=\"white\"><use xlink:href=\"#bell-path-1\"></use></mask><use id=\"Mask\" fill=\"#000000\" fill-rule=\"nonzero\" xlink:href=\"#bell-path-1\"></use><g id=\"color/cool-gray/10\" mask=\"url(#mask-2)\"><g transform=\"translate(-1.875000, -0.625000)\"></g></g></g><rect id=\"transparent-rectangle\" x=\"0\" y=\"0\" width=\"20\" height=\"20\"></rect></g></g></g></g></svg><span class=\"counter\"></span></div><div class=\"message\"></div><div class=\"close-button\" aria-label=\\'Close button\\'>&#xd7;</div></div><div class=\\'list-view hidden\\'><div class=\\'notifications-header\\'><div class=\\'title\\'>Notifications</div><a class=\\'settings-button\\' href=\\'/notifications/settings?context=icp4data\\' title=\\'Settings\\' aria-label=\\'Settings\\'><svg focusable=\"false\" preserveAspectRatio=\"xMidYMid meet\" xmlns=\"http://www.w3.org/2000/svg\" width=\"32\" height=\"32\" viewBox=\"0 0 32 32\" aria-hidden=\"true\"><path d=\"M27,16.76c0-.25,0-.5,0-.76s0-.51,0-.77l1.92-1.68A2,2,0,0,0,29.3,11L26.94,7a2,2,0,0,0-1.73-1,2,2,0,0,0-.64.1l-2.43.82a11.35,11.35,0,0,0-1.31-.75l-.51-2.52a2,2,0,0,0-2-1.61H13.64a2,2,0,0,0-2,1.61l-.51,2.52a11.48,11.48,0,0,0-1.32.75L7.43,6.06A2,2,0,0,0,6.79,6,2,2,0,0,0,5.06,7L2.7,11a2,2,0,0,0,.41,2.51L5,15.24c0,.25,0,.5,0,.76s0,.51,0,.77L3.11,18.45A2,2,0,0,0,2.7,21L5.06,25a2,2,0,0,0,1.73,1,2,2,0,0,0,.64-.1l2.43-.82a11.35,11.35,0,0,0,1.31.75l.51,2.52a2,2,0,0,0,2,1.61h4.72a2,2,0,0,0,2-1.61l.51-2.52a11.48,11.48,0,0,0,1.32-.75l2.42.82a2,2,0,0,0,.64.1,2,2,0,0,0,1.73-1L29.3,21a2,2,0,0,0-.41-2.51ZM25.21,24l-3.43-1.16a8.86,8.86,0,0,1-2.71,1.57L18.36,28H13.64l-.71-3.55a9.36,9.36,0,0,1-2.7-1.57L6.79,24,4.43,20l2.72-2.4a8.9,8.9,0,0,1,0-3.13L4.43,12,6.79,8l3.43,1.16a8.86,8.86,0,0,1,2.71-1.57L13.64,4h4.72l.71,3.55a9.36,9.36,0,0,1,2.7,1.57L25.21,8,27.57,12l-2.72,2.4a8.9,8.9,0,0,1,0,3.13L27.57,20Z\"></path><path d=\"M16,22a6,6,0,1,1,6-6A5.94,5.94,0,0,1,16,22Zm0-10a3.91,3.91,0,0,0-4,4,3.91,3.91,0,0,0,4,4,3.91,3.91,0,0,0,4-4A3.91,3.91,0,0,0,16,12Z\"></path></svg></a></div><ul class=\\'notification-list\\'></ul><div class=\\'notifications-footer\\'><a href=\\'/notifications?context=icp4data\\' class=\\'view-all\\'>View all</a></div></div></div></div></div><div class=\"dap-dropdown-container dap-profile-container\" id=\"dap-profile\"><div class=\"profile-toggle-parent\"><a class=\"profile-toggle no-picture\" href=\"#\"><span class=\"dap-profile-initials\"></span></a></div><ul class=\"dap-dropdown-menu list-unordered\" id=\"dap-profile-menu\"><li id=\"profile-username\"><div class=\"profile-toggle large-profile no-picture\"><span class=\"dap-profile-initials\"></span></div><div class=\"account-info\"><div class=\"username\" title=\"jlara\">jlara</div><div class=\"settings\"><a href=\"/zen/#/settings/profile/list\">Profile and settings</a></div></div></li><li id=\"profile-links\"><ul class=\"profile-links\"><li class=\" \"><a id=\"dap-icp-about\" href=\"#nav-default-about-modal\" >About</a></li></ul></li><li class=\"dap-dropdown-link logout\"><a href=\"#\" data-title=\"logout\" id=\"dap-open-logout-modal\"><span>Log out</span><svg fill-rule=\"evenodd\" viewBox=\"0 0 16 14\" id=\"icon--arrow--right\" xmlns=\"http://www.w3.org/2000/svg\" width=\"100%\" height=\"100%\"><path d=\"M11.95 5.997L7.86 2.092 9.233.639l6.763 6.356-6.763 6.366L7.86 11.91l4.092-3.912H-.003v-2h11.952z\" fill-rule=\"nonzero\"></path></svg></a></li></ul></div></div><div id=\"switcher-toggle\" class=\"sidemenu-toggle\"><a class=\"sidemenu-button\" href=\"#\" aria-labelledby=\"switcher-toggle-tooltip\"><svg id=\"switcher-closed-icon\" xmlns=\"http://www.w3.org/2000/svg\"xmlns:xlink=\"http://www.w3.org/1999/xlink\" x=\"0px\" y=\"0px\"width=\"20px\" height=\"20px\" viewBox=\"0 0 32 32\" style=\"enable-background:new 0 0 32 32;\" xml:space=\"preserve\"><rect x=\"14\" y=\"4\" width=\"4\" height=\"4\"/><rect x=\"4\" y=\"4\" width=\"4\" height=\"4\"/><rect x=\"24\" y=\"4\" width=\"4\" height=\"4\"/><rect x=\"14\" y=\"14\" width=\"4\" height=\"4\"/><rect x=\"4\" y=\"14\" width=\"4\" height=\"4\"/><rect x=\"24\" y=\"14\" width=\"4\" height=\"4\"/><rect x=\"14\" y=\"24\" width=\"4\" height=\"4\"/><rect x=\"4\" y=\"24\" width=\"4\" height=\"4\"/><rect x=\"24\" y=\"24\" width=\"4\" height=\"4\"/></svg><svg id=\"switcher-open-icon\" focusable=\"false\" preserveAspectRatio=\"xMidYMid meet\"xmlns=\"http://www.w3.org/2000/svg\" width=\"20\" height=\"20\"viewBox=\"0 0 32 32\" aria-hidden=\"true\" style=\"will-change: transform;\">\\t<path d=\"M24 9.4L22.6 8 16 14.6 9.4 8 8 9.4l6.6 6.6L8 22.6 9.4 24l6.6-6.6 6.6 6.6 1.4-1.4-6.6-6.6L24 9.4z\"></path></svg></a><div id=\"switcher-toggle-tooltip\" class=\"header-tooltip\">Switch locations</div></div></div><div id=\"dap-announcement\"><div class=\"announcement-type\"><span id=\"announcement-icon\"></span><b class=\"announcement-title\">Announcement</b></div><div class=\"announcement-message\"><span id=\"dap-announcement-message\"></span></div><div class=\"announcement-actions\"><div class=\"announcement-previous hide\"><button id=\"announcement-previous\" title=\"Previous\"><svg focusable=\"false\" preserveAspectRatio=\"xMidYMid meet\" xmlns=\"http://www.w3.org/2000/svg\" fill=\"currentColor\" width=\"32\" height=\"32\" viewBox=\"0 0 32 32\" aria-hidden=\"true\"><path d=\"M10 16L20 6 21.4 7.4 12.8 16 21.4 24.6 20 26z\"></path></svg></button></div><div class=\"announcement-pagination hide\"><span id=\"announcement-pagination\">0 / 0</span></div><div class=\"announcement-next hide\"><button id=\"announcement-next\" title=\"Next\"><svg focusable=\"false\" preserveAspectRatio=\"xMidYMid meet\" xmlns=\"http://www.w3.org/2000/svg\" fill=\"currentColor\" width=\"32\" height=\"32\" viewBox=\"0 0 32 32\" aria-hidden=\"true\"><path d=\"M22 16L12 26 10.6 24.6 19.2 16 10.6 7.4 12 6z\"></path></svg></button></div><div class=\"announcement-close\"><button class=\"announcement-close-button\" title=\"Close\"><svg focusable=\"false\" preserveAspectRatio=\"xMidYMid meet\" xmlns=\"http://www.w3.org/2000/svg\" fill=\"currentColor\" width=\"32\" height=\"32\" viewBox=\"0 0 32 32\" aria-hidden=\"true\"><path d=\"M24 9.4L22.6 8 16 14.6 9.4 8 8 9.4 14.6 16 8 22.6 9.4 24 16 17.4 22.6 24 24 22.6 17.4 16 24 9.4z\"></path></svg></button></div></div></div><nav id=\"dap-side-menu\"class=\"icp4data-menu\"aria-label=\\'Side menu\\'><div class=\"dap-side-menu-lists\"><ul class=\"dap-side-menu-list icp4data-menu\" id=\"mobile-menu\"><li class=\"dap-side-menu-filter\"><div class=\"dap-side-menu-filter-entry\"><input  placeholder=\\'Filter navigation\\' title=\\'Filter navigation\\' type=\"text\" aria-label=\\'Type to filter menu\\' tabindex=\"-1\"><a class=\"dap-side-menu-filter-cancel hidden\" href=\"#void\" tabindex=\"-1\"><svg focusable=\"false\" preserveAspectRatio=\"xMidYMid meet\" xmlns=\"http://www.w3.org/2000/svg\" width=\"16\" height=\"16\" viewBox=\"0 0 16 16\" aria-hidden=\"true\" style=\"will-change: transform;\"><path d=\"M12 4.7l-.7-.7L8 7.3 4.7 4l-.7.7L7.3 8 4 11.3l.7.7L8 8.7l3.3 3.3.7-.7L8.7 8z\"></path></svg></a></div><a class=\"dap-side-menu-filter-collapse\" href=\"#void\" data-action=\"expand\" aria-label=\"Open all\" tabindex=\"-1\"><svg focusable=\"false\" preserveAspectRatio=\"xMidYMid meet\" xmlns=\"http://www.w3.org/2000/svg\" width=\"16\" height=\"16\" viewBox=\"0 0 16 16\" aria-hidden=\"true\" style=\"will-change: transform;\"><path d=\"M8 10l5-5-.7-.7L8 8.6 3.7 4.3 3 5zm-6 2h12v1H2z\"></path></svg><div class=\"header-tooltip\"data-open=\\'Open all\\'data-close=\\'Close all\\'>Open all</div></a></li><div class=\"dap-side-menu-filter-no-matches hidden\"><div class=\"inner\"><div class=\"title\">No matches</div><div class=\"text\">Sorry but we couldn&#39;t find anything matching that filter.</div></div></div><li id=\"dap-header-home\" class=\"dap-side-menu-item \"><a class=\"dap-side-menu-leaf\" href=\"/zen/#/homepage\"  tabindex=\"-1\"><svg focusable=\"false\" preserveAspectRatio=\"xMidYMid meet\" xmlns=\"http://www.w3.org/2000/svg\" width=\"32\" height=\"32\" viewBox=\"0 0 32 32\" aria-hidden=\"true\" style=\"will-change: transform;width: 16px;height: 16px;\"><path d=\"M16.61 2.21a1 1 0 0 0-1.24 0L1 13.42 2.24 15 4 13.62V26a2 2 0 0 0 2 2h20a2 2 0 0 0 2-2V13.63L29.76 15 31 13.43zM18 26h-4v-8h4zm2 0v-8a2 2 0 0 0-2-2h-4a2 2 0 0 0-2 2v8H6V12.06l10-7.79 10 7.8V26z\"></path></svg><span class=\"dap-title\" data-title=\"Home\" title=\"Home\">Home</span><span class=\"icon-external-span hidden\"><svg focusable=\"false\" preserveAspectRatio=\"xMidYMid meet\" xmlns=\"http://www.w3.org/2000/svg\" width=\"32\" height=\"32\" viewBox=\"0 0 32 32\" aria-hidden=\"true\"><path d=\"M26,28H6a2,2,0,0,1-2-2V6A2,2,0,0,1,6,4h9V6H6V26H26V17h2v9A2,2,0,0,1,26,28Z\"></path><path d=\"M21 2L21 4 26.59 4 18 12.59 19.41 14 28 5.41 28 11 30 11 30 2 21 2z\"></path></svg></span></a></li><li id=\"dap-header-data\" class=\"dap-side-menu-item \"><a class=\"dap-side-menu-dropdown\" href=\"#\" tabindex=\"-1\"><span class=\"dap-side-menu-icon\"><svg class=\"icon-data\" focusable=\"false\" preserveAspectRatio=\"xMidYMid meet\" xmlns=\"http://www.w3.org/2000/svg\" width=\"32\" height=\"32\" viewBox=\"0 0 32 32\" aria-hidden=\"true\" style=\"will-change: transform;width: 16px;\"><path d=\"M25 13L25 4 23 4 23 6 20 6 20 8 23 8 23 13 20 13 20 15 28 15 28 13 25 13zM8.5 6A3.5 3.5 0 1 1 5 9.5 3.5 3.5 0 0 1 8.5 6m0-2A5.5 5.5 0 1 0 14 9.5 5.5 5.5 0 0 0 8.5 4zM8.5 20A3.5 3.5 0 1 1 5 23.5 3.5 3.5 0 0 1 8.5 20m0-2A5.5 5.5 0 1 0 14 23.5 5.5 5.5 0 0 0 8.5 18zM23.5 20A3.5 3.5 0 1 1 20 23.5 3.5 3.5 0 0 1 23.5 20m0-2A5.5 5.5 0 1 0 29 23.5 5.5 5.5 0 0 0 23.5 18z\"></path></svg></span><span class=\"dap-side-menu-dropdown-title\" data-title=\"Data\" title=\"Data\">Data</span><span class=\"icon-arrow-span\"><svg class=\"icon-arrow unified\" focusable=\"false\" preserveAspectRatio=\"xMidYMid meet\" xmlns=\"http://www.w3.org/2000/svg\" width=\"20\" height=\"20\" viewBox=\"0 0 32 32\" aria-hidden=\"true\" style=\"will-change: transform;\"><path d=\"M16 22L6 12l1.4-1.4 8.6 8.6 8.6-8.6L26 12z\"></path></svg></span></a><ul class=\"dap-side-menu-secondary\"><li id=\"data-globalConnections\" class=\"dap-side-menu-secondary-item\"><a href=\"/data/connections\"  tabindex=\"-1\"><span class=\"dap-title\" data-title=\"Platform connections\" title=\"Platform connections\">Platform connections</span><span class=\"icon-external-span hidden\"><svg focusable=\"false\" preserveAspectRatio=\"xMidYMid meet\" xmlns=\"http://www.w3.org/2000/svg\" width=\"32\" height=\"32\" viewBox=\"0 0 32 32\" aria-hidden=\"true\"><path d=\"M26,28H6a2,2,0,0,1-2-2V6A2,2,0,0,1,6,4h9V6H6V26H26V17h2v9A2,2,0,0,1,26,28Z\"></path><path d=\"M21 2L21 4 26.59 4 18 12.59 19.41 14 28 5.41 28 11 30 11 30 2 21 2z\"></path></svg></span></a></li></ul></li><li id=\"dap-header-projects\" class=\"dap-side-menu-item \"><a class=\"dap-side-menu-dropdown\" href=\"#\" tabindex=\"-1\"><span class=\"dap-side-menu-icon\"><svg focusable=\"false\" preserveAspectRatio=\"xMidYMid meet\" xmlns=\"http://www.w3.org/2000/svg\" fill=\"currentColor\" width=\"16\" height=\"16\" viewBox=\"0 0 32 32\" aria-hidden=\"true\"><path d=\"M16 17v8H6V17H16m0-2H6a2 2 0 00-2 2v8a2 2 0 002 2H16a2 2 0 002-2V17a2 2 0 00-2-2zM27 6v5H17V6H27m0-2H17a2 2 0 00-2 2v5a2 2 0 002 2H27a2 2 0 002-2V6a2 2 0 00-2-2zM27 17v5H22V17h5m0-2H22a2 2 0 00-2 2v5a2 2 0 002 2h5a2 2 0 002-2V17a2 2 0 00-2-2zM11 6v5H6V6h5m0-2H6A2 2 0 004 6v5a2 2 0 002 2h5a2 2 0 002-2V6a2 2 0 00-2-2z\"></path></svg></span><span class=\"dap-side-menu-dropdown-title\" data-title=\"Projects\" title=\"Projects\">Projects</span><span class=\"icon-arrow-span\"><svg class=\"icon-arrow unified\" focusable=\"false\" preserveAspectRatio=\"xMidYMid meet\" xmlns=\"http://www.w3.org/2000/svg\" width=\"20\" height=\"20\" viewBox=\"0 0 32 32\" aria-hidden=\"true\" style=\"will-change: transform;\"><path d=\"M16 22L6 12l1.4-1.4 8.6 8.6 8.6-8.6L26 12z\"></path></svg></span></a><ul class=\"dap-side-menu-secondary\"><li id=\"dap-all-projects\" class=\"dap-side-menu-secondary-item\"><a href=\"/projects?context=icp4data\"  tabindex=\"-1\"><span class=\"dap-title\" data-title=\"All projects\" title=\"All projects\">All projects</span><span class=\"icon-external-span hidden\"><svg focusable=\"false\" preserveAspectRatio=\"xMidYMid meet\" xmlns=\"http://www.w3.org/2000/svg\" width=\"32\" height=\"32\" viewBox=\"0 0 32 32\" aria-hidden=\"true\"><path d=\"M26,28H6a2,2,0,0,1-2-2V6A2,2,0,0,1,6,4h9V6H6V26H26V17h2v9A2,2,0,0,1,26,28Z\"></path><path d=\"M21 2L21 4 26.59 4 18 12.59 19.41 14 28 5.41 28 11 30 11 30 2 21 2z\"></path></svg></span></a></li><li id=\"dap-header-service-jobs\" class=\"dap-side-menu-secondary-item\"><a href=\"/jobs/operations\"  tabindex=\"-1\"><span class=\"dap-title\" data-title=\"Jobs\" title=\"Jobs\">Jobs</span><span class=\"icon-external-span hidden\"><svg focusable=\"false\" preserveAspectRatio=\"xMidYMid meet\" xmlns=\"http://www.w3.org/2000/svg\" width=\"32\" height=\"32\" viewBox=\"0 0 32 32\" aria-hidden=\"true\"><path d=\"M26,28H6a2,2,0,0,1-2-2V6A2,2,0,0,1,6,4h9V6H6V26H26V17h2v9A2,2,0,0,1,26,28Z\"></path><path d=\"M21 2L21 4 26.59 4 18 12.59 19.41 14 28 5.41 28 11 30 11 30 2 21 2z\"></path></svg></span></a></li><li id=\"dap-header-services-active-runtimes\" class=\"dap-side-menu-secondary-item\"><a href=\"/environments/runtimes/account?context=icp4data\"  tabindex=\"-1\"><span class=\"dap-title\" data-title=\"Tool runtimes\" title=\"Tool runtimes\">Tool runtimes</span><span class=\"icon-external-span hidden\"><svg focusable=\"false\" preserveAspectRatio=\"xMidYMid meet\" xmlns=\"http://www.w3.org/2000/svg\" width=\"32\" height=\"32\" viewBox=\"0 0 32 32\" aria-hidden=\"true\"><path d=\"M26,28H6a2,2,0,0,1-2-2V6A2,2,0,0,1,6,4h9V6H6V26H26V17h2v9A2,2,0,0,1,26,28Z\"></path><path d=\"M21 2L21 4 26.59 4 18 12.59 19.41 14 28 5.41 28 11 30 11 30 2 21 2z\"></path></svg></span></a></li></ul></li><li id=\"header-catalogs\" class=\"dap-side-menu-item \"><a class=\"dap-side-menu-dropdown\" href=\"#\" tabindex=\"-1\"><span class=\"dap-side-menu-icon\"><svg focusable=\"false\" preserveAspectRatio=\"xMidYMid meet\" xmlns=\"http://www.w3.org/2000/svg\" width=\"32\" height=\"32\" viewBox=\"0 0 32 32\" aria-hidden=\"true\" style=\"will-change: transform;\"><path d=\"M26 2H8a2 2 0 0 0-2 2v4H4v2h2v5H4v2h2v5H4v2h2v4a2 2 0 0 0 2 2h18a2 2 0 0 0 2-2V4a2 2 0 0 0-2-2zm0 26H8v-4h2v-2H8v-5h2v-2H8v-5h2V8H8V4h18z\"></path><path d=\"M14 8h8v2h-8zm0 7h8v2h-8zm0 7h8v2h-8z\"></path></svg></span><span class=\"dap-side-menu-dropdown-title\" data-title=\"Catalogs\" title=\"Catalogs\">Catalogs</span><span class=\"icon-arrow-span\"><svg class=\"icon-arrow unified\" focusable=\"false\" preserveAspectRatio=\"xMidYMid meet\" xmlns=\"http://www.w3.org/2000/svg\" width=\"20\" height=\"20\" viewBox=\"0 0 32 32\" aria-hidden=\"true\" style=\"will-change: transform;\"><path d=\"M16 22L6 12l1.4-1.4 8.6 8.6 8.6-8.6L26 12z\"></path></svg></span></a><ul class=\"dap-side-menu-secondary\"><li id=\"catalogs-allCatalogs\" class=\"dap-side-menu-secondary-item\"><a href=\"/data/catalogs\"  tabindex=\"-1\"><span class=\"dap-title\" data-title=\"All catalogs\" title=\"All catalogs\">All catalogs</span><span class=\"icon-external-span hidden\"><svg focusable=\"false\" preserveAspectRatio=\"xMidYMid meet\" xmlns=\"http://www.w3.org/2000/svg\" width=\"32\" height=\"32\" viewBox=\"0 0 32 32\" aria-hidden=\"true\"><path d=\"M26,28H6a2,2,0,0,1-2-2V6A2,2,0,0,1,6,4h9V6H6V26H26V17h2v9A2,2,0,0,1,26,28Z\"></path><path d=\"M21 2L21 4 26.59 4 18 12.59 19.41 14 28 5.41 28 11 30 11 30 2 21 2z\"></path></svg></span></a></li></ul></li><li id=\"dap-header-deployment-spaces\" class=\"dap-side-menu-item \"><a class=\"dap-side-menu-leaf\" href=\"/ml-runtime\"  tabindex=\"-1\"><svg focusable=\"false\" preserveAspectRatio=\"xMidYMid meet\" xmlns=\"http://www.w3.org/2000/svg\" width=\"32\" height=\"32\" viewBox=\"0 0 32 32\" aria-hidden=\"true\"><path d=\"M4,2H2V28a2,2,0,0,0,2,2H30V28H4Z\"></path><path d=\"M30,9H23v2h3.59L19,18.59l-4.29-4.3a1,1,0,0,0-1.42,0L6,21.59,7.41,23,14,16.41l4.29,4.3a1,1,0,0,0,1.42,0L28,12.41V16h2Z\"></path></svg><span class=\"dap-title\" data-title=\"Deployments\" title=\"Deployments\">Deployments</span><span class=\"icon-external-span hidden\"><svg focusable=\"false\" preserveAspectRatio=\"xMidYMid meet\" xmlns=\"http://www.w3.org/2000/svg\" width=\"32\" height=\"32\" viewBox=\"0 0 32 32\" aria-hidden=\"true\"><path d=\"M26,28H6a2,2,0,0,1-2-2V6A2,2,0,0,1,6,4h9V6H6V26H26V17h2v9A2,2,0,0,1,26,28Z\"></path><path d=\"M21 2L21 4 26.59 4 18 12.59 19.41 14 28 5.41 28 11 30 11 30 2 21 2z\"></path></svg></span></a></li><li id=\"dap-header-services\" class=\"dap-side-menu-item \"><a class=\"dap-side-menu-dropdown\" href=\"#\" tabindex=\"-1\"><span class=\"dap-side-menu-icon\"><svg focusable=\"false\" preserveAspectRatio=\"xMidYMid meet\" xmlns=\"http://www.w3.org/2000/svg\" width=\"16\" height=\"16\" viewBox=\"0 0 16 16\" aria-hidden=\"true\" style=\"will-change: transform;\"><path d=\"M4 2v2H2V2h2zm1-1H1v4h4V1zm4 1v2H7V2h2zm1-1H6v4h4V1zm4 1v2h-2V2h2zm1-1h-4v4h4V1zM4 7v2H2V7h2zm1-1H1v4h4V6zm4 1v2H7V7h2zm1-1H6v4h4V6zm4 1v2h-2V7h2zm1-1h-4v4h4V6zM4 12v2H2v-2h2zm1-1H1v4h4v-4zm4 1v2H7v-2h2zm1-1H6v4h4v-4zm4 1v2h-2v-2h2zm1-1h-4v4h4v-4z\"></path></svg></span><span class=\"dap-side-menu-dropdown-title\" data-title=\"Services\" title=\"Services\">Services</span><span class=\"icon-arrow-span\"><svg class=\"icon-arrow unified\" focusable=\"false\" preserveAspectRatio=\"xMidYMid meet\" xmlns=\"http://www.w3.org/2000/svg\" width=\"20\" height=\"20\" viewBox=\"0 0 32 32\" aria-hidden=\"true\" style=\"will-change: transform;\"><path d=\"M16 22L6 12l1.4-1.4 8.6 8.6 8.6-8.6L26 12z\"></path></svg></span></a><ul class=\"dap-side-menu-secondary\"><li id=\"dap-header-service-catalog\" class=\"dap-side-menu-secondary-item\"><a href=\"/zen/#/addons\"  tabindex=\"-1\"><span class=\"dap-title\" data-title=\"Services catalog\" title=\"Services catalog\">Services catalog</span><span class=\"icon-external-span hidden\"><svg focusable=\"false\" preserveAspectRatio=\"xMidYMid meet\" xmlns=\"http://www.w3.org/2000/svg\" width=\"32\" height=\"32\" viewBox=\"0 0 32 32\" aria-hidden=\"true\"><path d=\"M26,28H6a2,2,0,0,1-2-2V6A2,2,0,0,1,6,4h9V6H6V26H26V17h2v9A2,2,0,0,1,26,28Z\"></path><path d=\"M21 2L21 4 26.59 4 18 12.59 19.41 14 28 5.41 28 11 30 11 30 2 21 2z\"></path></svg></span></a></li><li id=\"dap-header-instances\" class=\"dap-side-menu-secondary-item\"><a href=\"/zen/#/myInstances\"  tabindex=\"-1\"><span class=\"dap-title\" data-title=\"Instances\" title=\"Instances\">Instances</span><span class=\"icon-external-span hidden\"><svg focusable=\"false\" preserveAspectRatio=\"xMidYMid meet\" xmlns=\"http://www.w3.org/2000/svg\" width=\"32\" height=\"32\" viewBox=\"0 0 32 32\" aria-hidden=\"true\"><path d=\"M26,28H6a2,2,0,0,1-2-2V6A2,2,0,0,1,6,4h9V6H6V26H26V17h2v9A2,2,0,0,1,26,28Z\"></path><path d=\"M21 2L21 4 26.59 4 18 12.59 19.41 14 28 5.41 28 11 30 11 30 2 21 2z\"></path></svg></span></a></li></ul></li><li id=\"dap-header-administer\" class=\"dap-side-menu-item \"><a class=\"dap-side-menu-dropdown\" href=\"#\" tabindex=\"-1\"><span class=\"dap-side-menu-icon\"><svg focusable=\"false\" preserveAspectRatio=\"xMidYMid meet\" xmlns=\"http://www.w3.org/2000/svg\" width=\"32\" height=\"32\" viewBox=\"0 0 32 32\" aria-hidden=\"true\"><path d=\"M30 8h-4.1c-.5-2.3-2.5-4-4.9-4s-4.4 1.7-4.9 4H2v2h14.1c.5 2.3 2.5 4 4.9 4s4.4-1.7 4.9-4H30V8zM21 12c-1.7 0-3-1.3-3-3s1.3-3 3-3 3 1.3 3 3S22.7 12 21 12zM2 24h4.1c.5 2.3 2.5 4 4.9 4s4.4-1.7 4.9-4H30v-2H15.9c-.5-2.3-2.5-4-4.9-4s-4.4 1.7-4.9 4H2V24zM11 20c1.7 0 3 1.3 3 3s-1.3 3-3 3-3-1.3-3-3S9.3 20 11 20z\"></path></svg></span><span class=\"dap-side-menu-dropdown-title\" data-title=\"Administration\" title=\"Administration\">Administration</span><span class=\"icon-arrow-span\"><svg class=\"icon-arrow unified\" focusable=\"false\" preserveAspectRatio=\"xMidYMid meet\" xmlns=\"http://www.w3.org/2000/svg\" width=\"20\" height=\"20\" viewBox=\"0 0 32 32\" aria-hidden=\"true\" style=\"will-change: transform;\"><path d=\"M16 22L6 12l1.4-1.4 8.6 8.6 8.6-8.6L26 12z\"></path></svg></span></a><ul class=\"dap-side-menu-secondary\"><li id=\"administration-catalogManagement\" class=\"dap-side-menu-secondary-item\"><a href=\"/catalog/manage\"  tabindex=\"-1\"><span class=\"dap-title\" data-title=\"Catalogs\" title=\"Catalogs\">Catalogs</span><span class=\"icon-external-span hidden\"><svg focusable=\"false\" preserveAspectRatio=\"xMidYMid meet\" xmlns=\"http://www.w3.org/2000/svg\" width=\"32\" height=\"32\" viewBox=\"0 0 32 32\" aria-hidden=\"true\"><path d=\"M26,28H6a2,2,0,0,1-2-2V6A2,2,0,0,1,6,4h9V6H6V26H26V17h2v9A2,2,0,0,1,26,28Z\"></path><path d=\"M21 2L21 4 26.59 4 18 12.59 19.41 14 28 5.41 28 11 30 11 30 2 21 2z\"></path></svg></span></a></li><li id=\"dap-admin-users\" class=\"dap-side-menu-secondary-item\"><a href=\"/zen-admin/?deployment_target=icp4data#/usermgmt-ui\"  tabindex=\"-1\"><span class=\"dap-title\" data-title=\"Access control\" title=\"Access control\">Access control</span><span class=\"icon-external-span hidden\"><svg focusable=\"false\" preserveAspectRatio=\"xMidYMid meet\" xmlns=\"http://www.w3.org/2000/svg\" width=\"32\" height=\"32\" viewBox=\"0 0 32 32\" aria-hidden=\"true\"><path d=\"M26,28H6a2,2,0,0,1-2-2V6A2,2,0,0,1,6,4h9V6H6V26H26V17h2v9A2,2,0,0,1,26,28Z\"></path><path d=\"M21 2L21 4 26.59 4 18 12.59 19.41 14 28 5.41 28 11 30 11 30 2 21 2z\"></path></svg></span></a></li><li id=\"dap-admin-idProviders\" class=\"dap-side-menu-secondary-item\"><a href=\"/common-nav/zen/idproviders\"  tabindex=\"-1\"><span class=\"dap-title\" data-title=\"Identity providers\" title=\"Identity providers\">Identity providers</span><span class=\"icon-external-span hidden\"><svg focusable=\"false\" preserveAspectRatio=\"xMidYMid meet\" xmlns=\"http://www.w3.org/2000/svg\" width=\"32\" height=\"32\" viewBox=\"0 0 32 32\" aria-hidden=\"true\"><path d=\"M26,28H6a2,2,0,0,1-2-2V6A2,2,0,0,1,6,4h9V6H6V26H26V17h2v9A2,2,0,0,1,26,28Z\"></path><path d=\"M21 2L21 4 26.59 4 18 12.59 19.41 14 28 5.41 28 11 30 11 30 2 21 2z\"></path></svg></span></a></li><li id=\"dap-admin-platformManagement\" class=\"dap-side-menu-secondary-item\"><a href=\"/zen/#/platformManagement\"  tabindex=\"-1\"><span class=\"dap-title\" data-title=\"Monitoring\" title=\"Monitoring\">Monitoring</span><span class=\"icon-external-span hidden\"><svg focusable=\"false\" preserveAspectRatio=\"xMidYMid meet\" xmlns=\"http://www.w3.org/2000/svg\" width=\"32\" height=\"32\" viewBox=\"0 0 32 32\" aria-hidden=\"true\"><path d=\"M26,28H6a2,2,0,0,1-2-2V6A2,2,0,0,1,6,4h9V6H6V26H26V17h2v9A2,2,0,0,1,26,28Z\"></path><path d=\"M21 2L21 4 26.59 4 18 12.59 19.41 14 28 5.41 28 11 30 11 30 2 21 2z\"></path></svg></span></a></li><li id=\"dap-admin-configurations-and-settings\" class=\"dap-side-menu-secondary-item\"><a href=\"/zen/#/configurationsandsettings\"  tabindex=\"-1\"><span class=\"dap-title\" data-title=\"Configurations and settings\" title=\"Configurations and settings\">Configurations and settings</span><span class=\"icon-external-span hidden\"><svg focusable=\"false\" preserveAspectRatio=\"xMidYMid meet\" xmlns=\"http://www.w3.org/2000/svg\" width=\"32\" height=\"32\" viewBox=\"0 0 32 32\" aria-hidden=\"true\"><path d=\"M26,28H6a2,2,0,0,1-2-2V6A2,2,0,0,1,6,4h9V6H6V26H26V17h2v9A2,2,0,0,1,26,28Z\"></path><path d=\"M21 2L21 4 26.59 4 18 12.59 19.41 14 28 5.41 28 11 30 11 30 2 21 2z\"></path></svg></span></a></li><li id=\"dap-admin-volumes\" class=\"dap-side-menu-secondary-item\"><a href=\"/zen/#/volumes\"  tabindex=\"-1\"><span class=\"dap-title\" data-title=\"Storage volumes\" title=\"Storage volumes\">Storage volumes</span><span class=\"icon-external-span hidden\"><svg focusable=\"false\" preserveAspectRatio=\"xMidYMid meet\" xmlns=\"http://www.w3.org/2000/svg\" width=\"32\" height=\"32\" viewBox=\"0 0 32 32\" aria-hidden=\"true\"><path d=\"M26,28H6a2,2,0,0,1-2-2V6A2,2,0,0,1,6,4h9V6H6V26H26V17h2v9A2,2,0,0,1,26,28Z\"></path><path d=\"M21 2L21 4 26.59 4 18 12.59 19.41 14 28 5.41 28 11 30 11 30 2 21 2z\"></path></svg></span></a></li></ul></li><li id=\"dap-header-support\" class=\"dap-side-menu-item \"><a class=\"dap-side-menu-dropdown\" href=\"#\" tabindex=\"-1\"><span class=\"dap-side-menu-icon\"><svg xmlns=\"http://www.w3.org/2000/svg\" viewBox=\"0 0 16 16\"><title>Help</title><path d=\"M8.22,4A2.58,2.58,0,0,0,5.55,5.93L6.83,6.46A1.36,1.36,0,0,1,8.16,5.32a1.16,1.16,0,0,1,1.1,1.22C9.27,7.53,8.27,8,7,8v2H9V8.82A2.15,2.15,0,0,0,10.9,6.5,2.47,2.47,0,0,0,8.22,4Z\"/><circle cx=\"8\" cy=\"12\" r=\"1\"/><path d=\"M8,0a8,8,0,1,0,8,8A8,8,0,0,0,8,0ZM8,15a7,7,0,1,1,7-7A7,7,0,0,1,8,15Z\"/></svg></span><span class=\"dap-side-menu-dropdown-title\" data-title=\"Support\" title=\"Support\">Support</span><span class=\"icon-arrow-span\"><svg class=\"icon-arrow unified\" focusable=\"false\" preserveAspectRatio=\"xMidYMid meet\" xmlns=\"http://www.w3.org/2000/svg\" width=\"20\" height=\"20\" viewBox=\"0 0 32 32\" aria-hidden=\"true\" style=\"will-change: transform;\"><path d=\"M16 22L6 12l1.4-1.4 8.6 8.6 8.6-8.6L26 12z\"></path></svg></span></a><ul class=\"dap-side-menu-secondary\"><li id=\"dap-support-documentation\" class=\"dap-side-menu-secondary-item\"><a href=\"/zen-docs/cpd/overview/overview.html\" target=\"overview\" tabindex=\"-1\"><span class=\"dap-title\" data-title=\"Documentation\" title=\"Documentation\">Documentation</span><span class=\"icon-external-span hidden\"><svg focusable=\"false\" preserveAspectRatio=\"xMidYMid meet\" xmlns=\"http://www.w3.org/2000/svg\" width=\"32\" height=\"32\" viewBox=\"0 0 32 32\" aria-hidden=\"true\"><path d=\"M26,28H6a2,2,0,0,1-2-2V6A2,2,0,0,1,6,4h9V6H6V26H26V17h2v9A2,2,0,0,1,26,28Z\"></path><path d=\"M21 2L21 4 26.59 4 18 12.59 19.41 14 28 5.41 28 11 30 11 30 2 21 2z\"></path></svg></span></a></li><li id=\"dap-support-community\" class=\"dap-side-menu-secondary-item\"><a href=\"https://community.ibm.com/community/user/cloudpakfordata/home\" target=\"support-community\" tabindex=\"-1\"><span class=\"dap-title\" data-title=\"Community\" title=\"Community\">Community</span><span class=\"icon-external-span hidden\"><svg focusable=\"false\" preserveAspectRatio=\"xMidYMid meet\" xmlns=\"http://www.w3.org/2000/svg\" width=\"32\" height=\"32\" viewBox=\"0 0 32 32\" aria-hidden=\"true\"><path d=\"M26,28H6a2,2,0,0,1-2-2V6A2,2,0,0,1,6,4h9V6H6V26H26V17h2v9A2,2,0,0,1,26,28Z\"></path><path d=\"M21 2L21 4 26.59 4 18 12.59 19.41 14 28 5.41 28 11 30 11 30 2 21 2z\"></path></svg></span></a></li><li id=\"dap-support-diagnostics\" class=\"dap-side-menu-secondary-item\"><a href=\"/zen/#/gatherDiagnostics\"  tabindex=\"-1\"><span class=\"dap-title\" data-title=\"Diagnostics\" title=\"Diagnostics\">Diagnostics</span><span class=\"icon-external-span hidden\"><svg focusable=\"false\" preserveAspectRatio=\"xMidYMid meet\" xmlns=\"http://www.w3.org/2000/svg\" width=\"32\" height=\"32\" viewBox=\"0 0 32 32\" aria-hidden=\"true\"><path d=\"M26,28H6a2,2,0,0,1-2-2V6A2,2,0,0,1,6,4h9V6H6V26H26V17h2v9A2,2,0,0,1,26,28Z\"></path><path d=\"M21 2L21 4 26.59 4 18 12.59 19.41 14 28 5.41 28 11 30 11 30 2 21 2z\"></path></svg></span></a></li><li id=\"dap-support-open-a-ticket\" class=\"dap-side-menu-secondary-item\"><a href=\"https://www.ibm.com/mysupport/s/topic/0TO50000000IYkUGAW/cloud-pak-for-data\" target=\"open-ticket\" tabindex=\"-1\"><span class=\"dap-title\" data-title=\"Open a ticket\" title=\"Open a ticket\">Open a ticket</span><span class=\"icon-external-span hidden\"><svg focusable=\"false\" preserveAspectRatio=\"xMidYMid meet\" xmlns=\"http://www.w3.org/2000/svg\" width=\"32\" height=\"32\" viewBox=\"0 0 32 32\" aria-hidden=\"true\"><path d=\"M26,28H6a2,2,0,0,1-2-2V6A2,2,0,0,1,6,4h9V6H6V26H26V17h2v9A2,2,0,0,1,26,28Z\"></path><path d=\"M21 2L21 4 26.59 4 18 12.59 19.41 14 28 5.41 28 11 30 11 30 2 21 2z\"></path></svg></span></a></li><li id=\"dap-support-share-an-idea\" class=\"dap-side-menu-secondary-item\"><a href=\"https://ibm-data-and-ai.ideas.aha.io/\" target=\"share-idea\" tabindex=\"-1\"><span class=\"dap-title\" data-title=\"Share an idea\" title=\"Share an idea\">Share an idea</span><span class=\"icon-external-span hidden\"><svg focusable=\"false\" preserveAspectRatio=\"xMidYMid meet\" xmlns=\"http://www.w3.org/2000/svg\" width=\"32\" height=\"32\" viewBox=\"0 0 32 32\" aria-hidden=\"true\"><path d=\"M26,28H6a2,2,0,0,1-2-2V6A2,2,0,0,1,6,4h9V6H6V26H26V17h2v9A2,2,0,0,1,26,28Z\"></path><path d=\"M21 2L21 4 26.59 4 18 12.59 19.41 14 28 5.41 28 11 30 11 30 2 21 2z\"></path></svg></span></a></li></ul></li></ul></div></nav><nav id=\"dap-switcher-menu\" aria-label=\\'Switcher menu\\' class=\"\"><div class=\"switcher-group\"><div class=\"error-container\"><svg focusable=\"false\" preserveAspectRatio=\"xMidYMid meet\" xmlns=\"http://www.w3.org/2000/svg\" fill=\"currentColor\" width=\"32\" height=\"32\" viewBox=\"0 0 32 32\" aria-hidden=\"true\"><path fill=\"none\" d=\"M14.9 7.2H17.1V24.799H14.9z\" data-icon-path=\"inner-path\" transform=\"rotate(-45 16 16)\"></path><path d=\"M16,2A13.914,13.914,0,0,0,2,16,13.914,13.914,0,0,0,16,30,13.914,13.914,0,0,0,30,16,13.914,13.914,0,0,0,16,2Zm5.4449,21L9,10.5557,10.5557,9,23,21.4448Z\"></path><title>Error filled</title></svg><div class=\"switcher-error-body\">Something went wrong. Please try again or contact the IBM help desk.</div></div><ul id=\"switcher-group-items\" class=\"switcher-group-items\"><li class=\"switcher-group-item loading\"><div class=\"loading-image\"></div><div class=\"loading-text\"></div></li><li class=\"switcher-group-item loading\"><div class=\"loading-image\"></div><div class=\"loading-text\"></div></li><li class=\"switcher-group-item loading\"><div class=\"loading-image\"></div><div class=\"loading-text\"></div></li></ul></div></nav><div class=\"header-overlay\"></div></header><div class=\"icp-version-modal\"><div class=\"icp-version-modal-overlay\"></div><div role=\"dialog\" class=\"icp-modal-container\" aria-label=\"Version modal\"><div class=\"icp-modal-content\"><div class=\"icp-modal-header\"><button type=\"button\"><svg fill-rule=\"evenodd\" height=\"10\" role=\"img\" viewBox=\"0 0 10 10\" width=\"10\" aria-label=\\'Close modal\\' alt=\\'Close modal\\'><path d=\"M6.32 5L10 8.68 8.68 10 5 6.32 1.32 10 0 8.68 3.68 5 0 1.32 1.32 0 5 3.68 8.68 0 10 1.32 6.32 5z\"></path></svg></button></div><div class=\"icp-modal-body\"><iframe id=\"icp-version-modal-iframe\" sandbox=\"allow-same-origin allow-top-navigation allow-scripts allow-popups allow-downloads\" src=\"\" title=\"Version modal\"></iframe></div></div></div></div><div data-modal id=\"cloud-logout-modal\" class=\"bx--modal cloud-logout-modal hide\" role=\"dialog\" tabindex=\"-1\" style=\"opacity: 0; visibility: hidden;\"><div class=\"bx--modal-container bx--modal-container--sm\"><div class=\"bx--modal-header\"><p class=\"bx--modal-header__heading bx--type-beta\" id=\"modal-lokx1olb9q-heading\">Confirm</p><button class=\"bx--modal-close\" id=\"logout-modal-close\" type=\"button\" data-modal-close aria-label=\\'Close modal\\' ><svg focusable=\"false\" preserveAspectRatio=\"xMidYMid meet\" style=\"will-change: transform;\" xmlns=\"http://www.w3.org/2000/svg\" class=\"bx--modal-close__icon\" width=\"16\" height=\"16\" viewBox=\"0 0 16 16\" aria-hidden=\"true\"><path d=\"M12 4.7L11.3 4 8 7.3 4.7 4 4 4.7 7.3 8 4 11.3 4.7 12 8 8.7 11.3 12 12 11.3 8.7 8z\"></path></svg></button></div><div class=\"bx--modal-content\"><p>Do you want to log out?</p></div><div class=\"bx--modal-footer\"><button class=\"bx--btn bx--btn--secondary\" id=\"logout-modal-cancel\" type=\"button\" data-modal-close>Cancel</button><button class=\"bx--btn bx--btn--primary\" id=\"logout-modal-commit\"data-url=\"/auth/iamid/logout?context=icp4data\" type=\"button\" data-modal-primary-focus>Log out</button></div></div><!-- Note: focusable span allows for focus wrap feature within Modals --><span tabindex=\"0\"></span></div><div id=\"nav-notification-container\" class=\\'nav-notification-container\\'></div><script type=\"text/javascript\">window.wdpAnnouncement={\"announcements\":[]};</script>  <div id=\"contentNode\" class=\"icp4data-menu\"><div id=\"app\"></div> <div id=\"staticFrame\" class=\"outline\"><div class=\"appContainer\"><div class=\"pageContainer\"><div class=\"loading\"><svg viewBox=\"-75 -75 150 150\"><circle cx=\"0\" cy=\"0\" r=\"37.5\"></circle></svg></div></div></div></div> </div>  <script src=\"/v2/nav/js/nav.min.js\"></script>  <script src=\"vendors~main.7fb47874bb7d19b12f3b.bundle.js\"></script><script src=\"main.05a16c6ee8820b2b277d.bundle.js\"></script></body></html>'"
      ]
     },
     "execution_count": 33,
     "metadata": {},
     "output_type": "execute_result"
    }
   ],
   "source": [
    "space_data.text"
   ]
  },
  {
   "cell_type": "code",
   "execution_count": 17,
   "id": "ee840feb-1bd5-4bee-b030-933a59b266dc",
   "metadata": {
    "id": "ee840feb-1bd5-4bee-b030-933a59b266dc",
    "tags": []
   },
   "outputs": [
    {
     "name": "stdout",
     "output_type": "stream",
     "text": [
      "...\n",
      "Nothing to show.\n"
     ]
    }
   ],
   "source": [
    "!cpd-cli/cpd-cli space list --profile mlops-profile"
   ]
  },
  {
   "cell_type": "code",
   "execution_count": null,
   "id": "2f9f863a-3388-4777-b804-e1c2bf1404d0",
   "metadata": {
    "id": "2f9f863a-3388-4777-b804-e1c2bf1404d0"
   },
   "outputs": [],
   "source": [
    "!https://cpd-cpd.apps.cp4d-education-install.cp.fyre.ibm.com/ml-runtime/spaces/"
   ]
  },
  {
   "cell_type": "code",
   "execution_count": null,
   "id": "926e7e2f-e968-48f5-9f32-96108213194d",
   "metadata": {
    "id": "83aa9209-ee58-41b0-8b13-1b897295fa50",
    "tags": []
   },
   "outputs": [],
   "source": [
    "def is_valid_numeric_id(value):\n",
    "    \"\"\"Valida si el id es numerico\"\"\"\n",
    "    return value.isdigit()"
   ]
  },
  {
   "cell_type": "code",
   "execution_count": null,
   "id": "3ab9ec37-5e30-40ea-8732-6d28e72bd5a0",
   "metadata": {
    "id": "c9984427-6aa9-472d-8b52-67c98f0a0fe2"
   },
   "outputs": [],
   "source": [
    "# Obtener username en base a user_id\n",
    "def get_username(user_id, bearer_token):\n",
    "    user_mgmt_url = f\"{cpd_instance_url}/usermgmt/v1/usermgmt/user/{user_id}?any_status=true&include_session_info=true\"\n",
    "    headers = {'Authorization': f'Bearer {bearer_token}', 'Accept': 'application/json'}\n",
    "    response = requests.get(user_mgmt_url, headers=headers, verify=False)\n",
    "    response.raise_for_status()\n",
    "    user_data = response.json()\n",
    "    return user_data.get('username', 'Unknown')"
   ]
  },
  {
   "cell_type": "code",
   "execution_count": 11,
   "id": "179dfb0c-a3f5-4369-8cf4-e79c746b79bc",
   "metadata": {
    "id": "179dfb0c-a3f5-4369-8cf4-e79c746b79bc",
    "tags": []
   },
   "outputs": [
    {
     "name": "stdout",
     "output_type": "stream",
     "text": [
      "Using pod: asset-files-api-769ff7cbcd-zf7m6\n"
     ]
    }
   ],
   "source": [
    "    pods = core_v1_api.list_namespaced_pod(namespace, label_selector=label_selector)\n",
    "    if not pods.items:\n",
    "        raise RuntimeError(\"No se encontro el pod\")\n",
    "\n",
    "    pod_name = pods.items[0].metadata.name\n",
    "    print(f\"Usando pod: {pod_name}\")"
   ]
  },
  {
   "cell_type": "code",
   "execution_count": null,
   "id": "95d3ff99-4977-4e81-96ba-0a0fefe0c573",
   "metadata": {
    "id": "401ac526-ea32-4aa2-afba-b94ef5bf8eca"
   },
   "outputs": [],
   "source": [
    "# Main logic\n",
    "try:\n",
    "    # Find the pod\n",
    "    pods = core_v1_api.list_namespaced_pod(namespace, label_selector=label_selector)\n",
    "    if not pods.items:\n",
    "        raise RuntimeError(\"No asset-files-api pod found.\")\n",
    "\n",
    "    pod_name = pods.items[0].metadata.name\n",
    "    print(f\"Using pod: {pod_name}\")\n",
    "\n",
    "    all_file_details = []\n",
    "    for path in base_paths:\n",
    "        print(f\"Processing base path: {path}\")\n",
    "\n",
    "        # Command to list files and their sizes\n",
    "        command = [\n",
    "            \"bash\", \"-c\",\n",
    "            f\"shopt -s nullglob; for d in {path}/*/*/* {path}/*/*/.[!.]*; do if [ -e \\\"$d\\\" ]; then du -sh \\\"$d\\\"; fi; done\"\n",
    "        ]\n",
    "\n",
    "        # Ejecutar en pod\n",
    "        response = stream(\n",
    "            core_v1_api.connect_get_namespaced_pod_exec,\n",
    "            pod_name,\n",
    "            namespace,\n",
    "            command=command,\n",
    "            stderr=True, stdin=False, stdout=True, tty=False,\n",
    "        )\n",
    "\n",
    "        # Parse response\n",
    "        for line in response.splitlines():\n",
    "            match = re.match(r\"^(\\S+)\\s+(.+)$\", line)\n",
    "            if match:\n",
    "                file_size, file_path = match.groups()\n",
    "                parts = file_path.split(\"/\")\n",
    "                if \"projects\" in path and len(parts) >= 6:\n",
    "                    project_id = parts[4]\n",
    "                    user_id = parts[5]\n",
    "                    if is_valid_numeric_id(user_id):\n",
    "                        print(f\"Appending valid user_id for projects: {user_id}\")\n",
    "                        file_name = parts[-1]\n",
    "                        all_file_details.append({\n",
    "                            \"type\": \"project\",\n",
    "                            \"id\": project_id,\n",
    "                            \"user_id\": user_id,\n",
    "                            \"file_name\": file_name,\n",
    "                            \"file_size\": file_size,\n",
    "                        })\n",
    "                    else:\n",
    "                        print(f\"Invalid user_id detected for projects: {user_id}, skipping.\")\n",
    "                elif \"spaces\" in path and len(parts) >= 5:\n",
    "                    space_id = parts[4]\n",
    "                    user_id = parts[5]\n",
    "                    print(f\"appending this user id for spaces: {user_id}\")\n",
    "                    file_name = parts[-1]\n",
    "                    all_file_details.append({\n",
    "                        \"type\": \"space\",\n",
    "                        \"id\": space_id,\n",
    "                        \"user_id\": user_id,\n",
    "                        \"file_name\": file_name,\n",
    "                        \"file_size\": file_size,\n",
    "                    })\n",
    "\n",
    "    df = pd.DataFrame(all_file_details)\n",
    "    print(f\"Collected {len(df)} file records.\")\n",
    "    df.to_csv(output_file_intermediate, index=False)\n",
    "    print(f\"Intermediate data saved to {output_file_intermediate}\")\n",
    "\n",
    "    # Add names for projects and spaces\n",
    "    df[\"name\"] = df.apply(\n",
    "        lambda row: get_project_name(row[\"id\"]) if row[\"type\"] == \"project\" else get_space_name(row[\"id\"]),\n",
    "        axis=1\n",
    "    )\n",
    "\n",
    "    # Add usernames\n",
    "    bearer_token = get_bearer_token()\n",
    "    df[\"username\"] = df[\"user_id\"].apply(lambda user_id: get_username(user_id, bearer_token))\n",
    "\n",
    "    # Save final output\n",
    "    df.to_csv(output_file_final, index=False)\n",
    "    print(f\"Final data saved to {output_file_final}\")\n",
    "\n",
    "except Exception as e:\n",
    "    print(f\"An error occurred: {e}\")"
   ]
  }
 ],
 "metadata": {
  "kernelspec": {
   "display_name": "Python 3.10",
   "language": "python",
   "name": "python3"
  },
  "language_info": {
   "codemirror_mode": {
    "name": "ipython",
    "version": 3
   },
   "file_extension": ".py",
   "mimetype": "text/x-python",
   "name": "python",
   "nbconvert_exporter": "python",
   "pygments_lexer": "ipython3",
   "version": "3.10.14"
  }
 },
 "nbformat": 4,
 "nbformat_minor": 5
}
