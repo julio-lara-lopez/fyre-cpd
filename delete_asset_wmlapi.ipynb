{
 "cells": [
  {
   "cell_type": "code",
   "execution_count": 26,
   "id": "58d6f930-c231-49b8-9358-ee7ea8a6da9e",
   "metadata": {
    "id": "58d6f930-c231-49b8-9358-ee7ea8a6da9e",
    "tags": []
   },
   "outputs": [],
   "source": [
    "!curl -LOs \"https://github.com/IBM/cpdctl/releases/latest/download/cpdctl_linux_amd64.tar.gz\""
   ]
  },
  {
   "cell_type": "code",
   "execution_count": 27,
   "id": "613b111f-4973-4cb7-a939-ff8f5202491c",
   "metadata": {
    "id": "613b111f-4973-4cb7-a939-ff8f5202491c",
    "tags": []
   },
   "outputs": [
    {
     "name": "stdout",
     "output_type": "stream",
     "text": [
      "cpdctl\n",
      "LICENSE\n",
      "NOTICES\n"
     ]
    }
   ],
   "source": [
    "!tar -xvf cpdctl_linux_amd64.tar.gz"
   ]
  },
  {
   "cell_type": "code",
   "execution_count": 1,
   "id": "fa4b2299-990f-467c-9165-5bd56a78f816",
   "metadata": {
    "id": "16659dc6-2e67-432c-ada5-34a35cd61c40",
    "tags": []
   },
   "outputs": [],
   "source": [
    "import os\n",
    "token = os.environ['USER_ACCESS_TOKEN']\n",
    "wml_credentials = {\n",
    "\"token\": token,\n",
    "\"instance_id\" : \"openshift\",\n",
    "\"url\": \"https://cpd-cpd.apps.cp4d-education-install.cp.fyre.ibm.com/\",\n",
    "\"version\": \"4.8\"\n",
    "}"
   ]
  },
  {
   "cell_type": "code",
   "execution_count": 3,
   "id": "59672ddd-7f15-4af9-b942-b5292fad7670",
   "metadata": {
    "id": "59672ddd-7f15-4af9-b942-b5292fad7670",
    "tags": []
   },
   "outputs": [],
   "source": [
    "from ibm_watson_machine_learning import APIClient\n",
    "client = APIClient(wml_credentials)"
   ]
  },
  {
   "cell_type": "code",
   "execution_count": 5,
   "id": "2abc976c-337b-4d3c-ac4c-9d3690a5007f",
   "metadata": {
    "id": "2abc976c-337b-4d3c-ac4c-9d3690a5007f",
    "tags": []
   },
   "outputs": [
    {
     "data": {
      "text/plain": [
       "'SUCCESS'"
      ]
     },
     "execution_count": 5,
     "metadata": {},
     "output_type": "execute_result"
    }
   ],
   "source": [
    "space_id='23a5699d-e2e1-4250-b2c6-266f21e01f3a'\n",
    "client.set.default_space(space_id)"
   ]
  },
  {
   "cell_type": "code",
   "execution_count": 9,
   "id": "1d6ccfd5-e7bb-4956-baf5-3fc861a21b7f",
   "metadata": {
    "id": "1d6ccfd5-e7bb-4956-baf5-3fc861a21b7f",
    "tags": []
   },
   "outputs": [],
   "source": [
    "assets=client.data_assets.get_details()"
   ]
  },
  {
   "cell_type": "code",
   "execution_count": 22,
   "id": "88ac0239-5fe4-4046-b54f-1f186b2c3607",
   "metadata": {
    "id": "88ac0239-5fe4-4046-b54f-1f186b2c3607",
    "tags": []
   },
   "outputs": [
    {
     "data": {
      "text/plain": [
       "'2c41adde-19c5-42d6-aef1-3651296bd0b3'"
      ]
     },
     "execution_count": 22,
     "metadata": {},
     "output_type": "execute_result"
    }
   ],
   "source": [
    "assets['resources'][0]['metadata']['asset_id']"
   ]
  },
  {
   "cell_type": "code",
   "execution_count": 23,
   "id": "1d6d3a00-3c80-4917-b8a7-f751b08a5be3",
   "metadata": {
    "id": "1d6d3a00-3c80-4917-b8a7-f751b08a5be3",
    "tags": []
   },
   "outputs": [
    {
     "data": {
      "text/plain": [
       "'SUCCESS'"
      ]
     },
     "execution_count": 23,
     "metadata": {},
     "output_type": "execute_result"
    }
   ],
   "source": [
    "client.data_assets.delete(assets['resources'][0]['metadata']['asset_id'])"
   ]
  },
  {
   "cell_type": "code",
   "execution_count": 24,
   "id": "3bc576b1-8814-4462-92ee-dd89ced89b0c",
   "metadata": {
    "id": "3bc576b1-8814-4462-92ee-dd89ced89b0c",
    "tags": []
   },
   "outputs": [
    {
     "name": "stdout",
     "output_type": "stream",
     "text": [
      "----  ----------  ----  --------\n",
      "NAME  ASSET_TYPE  SIZE  ASSET_ID\n",
      "----  ----------  ----  --------\n"
     ]
    },
    {
     "data": {
      "text/html": [
       "<div>\n",
       "<style scoped>\n",
       "    .dataframe tbody tr th:only-of-type {\n",
       "        vertical-align: middle;\n",
       "    }\n",
       "\n",
       "    .dataframe tbody tr th {\n",
       "        vertical-align: top;\n",
       "    }\n",
       "\n",
       "    .dataframe thead th {\n",
       "        text-align: right;\n",
       "    }\n",
       "</style>\n",
       "<table border=\"1\" class=\"dataframe\">\n",
       "  <thead>\n",
       "    <tr style=\"text-align: right;\">\n",
       "      <th></th>\n",
       "      <th>NAME</th>\n",
       "      <th>ASSET_TYPE</th>\n",
       "      <th>SIZE</th>\n",
       "      <th>ASSET_ID</th>\n",
       "    </tr>\n",
       "  </thead>\n",
       "  <tbody>\n",
       "  </tbody>\n",
       "</table>\n",
       "</div>"
      ],
      "text/plain": [
       "Empty DataFrame\n",
       "Columns: [NAME, ASSET_TYPE, SIZE, ASSET_ID]\n",
       "Index: []"
      ]
     },
     "execution_count": 24,
     "metadata": {},
     "output_type": "execute_result"
    }
   ],
   "source": [
    "client.data_assets.list()"
   ]
  },
  {
   "cell_type": "code",
   "execution_count": 25,
   "id": "f9b20979-10a0-4ac7-b48d-466225c576fb",
   "metadata": {
    "id": "f9b20979-10a0-4ac7-b48d-466225c576fb",
    "tags": []
   },
   "outputs": [
    {
     "data": {
      "text/plain": [
       "{'resources': []}"
      ]
     },
     "execution_count": 25,
     "metadata": {},
     "output_type": "execute_result"
    }
   ],
   "source": [
    "client.data_assets.get_details()"
   ]
  },
  {
   "cell_type": "code",
   "execution_count": 30,
   "id": "cba7254d-f066-4f96-be49-bd02fa8ee073",
   "metadata": {
    "id": "cba7254d-f066-4f96-be49-bd02fa8ee073",
    "tags": []
   },
   "outputs": [
    {
     "name": "stdout",
     "output_type": "stream",
     "text": [
      "...\n",
      "\u001b[1mPath\u001b[22m                                                 \u001b[1mType\u001b[22m   \u001b[1mSize\u001b[22m     \u001b[1mEtag\u001b[22m                    \u001b[1mLast Modified\u001b[22m\n",
      "\u001b[36;1mdata_asset/credentials.txt\u001b[0;22m                           file   144      W/\"90-194f7a8756b\"      Wed, 12 Feb 2025 00:56:40 GMT\n",
      "\u001b[36;1mbf364329-1a86-4779-8ca6-79a300ecb8c4/ce1f26e5-d3d…\u001b[0;22m   file   106648   W/\"1a098-194f79d1651\"   Wed, 12 Feb 2025 00:44:14 GMT\n"
     ]
    }
   ],
   "source": [
    "!./cpdctl asset file list --space-id '23a5699d-e2e1-4250-b2c6-266f21e01f3a' --flat"
   ]
  }
 ],
 "metadata": {
  "kernelspec": {
   "display_name": "Python 3.10",
   "language": "python",
   "name": "python3"
  },
  "language_info": {
   "codemirror_mode": {
    "name": "ipython",
    "version": 3
   },
   "file_extension": ".py",
   "mimetype": "text/x-python",
   "name": "python",
   "nbconvert_exporter": "python",
   "pygments_lexer": "ipython3",
   "version": "3.10.14"
  }
 },
 "nbformat": 4,
 "nbformat_minor": 5
}
