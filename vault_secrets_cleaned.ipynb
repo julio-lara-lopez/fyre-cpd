{
 "cells": [
  {
   "cell_type": "markdown",
   "id": "b04971cc-c49b-4841-9a30-adb3bbe6ff69",
   "metadata": {
    "id": "83150cf7-16b4-417e-a73e-e77478afda03",
    "tags": []
   },
   "source": [
    "# 1. Acceder a la data usando método Flight"
   ]
  },
  {
   "cell_type": "code",
   "execution_count": 3,
   "id": "31a20151-8dc4-46f5-8f1d-feff74bf03a8",
   "metadata": {
    "id": "3169399a-5a76-4b9b-9c62-ddf152f98207",
    "tags": []
   },
   "outputs": [
    {
     "name": "stdout",
     "output_type": "stream",
     "text": [
      "{'database': 'BUDA',\n",
      " 'password': '{\"secretRefID\":\"1000331005:db2-secret\",\"key\":\"password\"}',\n",
      " 'username_password_security': 'clear_text',\n",
      " 'port': '25010',\n",
      " 'vaulted_properties': 'password,username',\n",
      " 'host': '9.30.182.153',\n",
      " 'username_password_encryption': 'default',\n",
      " 'ssl': 'false',\n",
      " 'inherit_access_token': 'false',\n",
      " 'username': '{\"secretRefID\":\"1000331005:db2-secret\",\"key\":\"username\"}',\n",
      " '.': {'name': 'db2_connection_unmasked',\n",
      "       'description': None,\n",
      "       'asset_id': 'connection.db2connection',\n",
      "       'asset_type': 'connection',\n",
      "       'personal_credentials': True}}\n"
     ]
    }
   ],
   "source": [
    "from ibm_watson_studio_lib import access_project_or_space\n",
    "import os\n",
    "wslib = access_project_or_space()\n",
    "db2_connection = wslib.get_connection('db2_connection_unmasked')\n",
    "wslib.show(db2_connection)"
   ]
  },
  {
   "cell_type": "code",
   "execution_count": 4,
   "id": "425d7068-85b3-418d-8679-4b9128757e86",
   "metadata": {
    "id": "425d7068-85b3-418d-8679-4b9128757e86",
    "tags": []
   },
   "outputs": [
    {
     "data": {
      "text/html": [
       "<div>\n",
       "<style scoped>\n",
       "    .dataframe tbody tr th:only-of-type {\n",
       "        vertical-align: middle;\n",
       "    }\n",
       "\n",
       "    .dataframe tbody tr th {\n",
       "        vertical-align: top;\n",
       "    }\n",
       "\n",
       "    .dataframe thead th {\n",
       "        text-align: right;\n",
       "    }\n",
       "</style>\n",
       "<table border=\"1\" class=\"dataframe\">\n",
       "  <thead>\n",
       "    <tr style=\"text-align: right;\">\n",
       "      <th></th>\n",
       "      <th>CUSTOMER_ID</th>\n",
       "      <th>FIRST_NAME</th>\n",
       "      <th>LAST_NAME</th>\n",
       "      <th>EMAIL</th>\n",
       "      <th>PHONE_NUMBER</th>\n",
       "      <th>ADDRESS</th>\n",
       "      <th>CREATED_AT</th>\n",
       "    </tr>\n",
       "  </thead>\n",
       "  <tbody>\n",
       "    <tr>\n",
       "      <th>0</th>\n",
       "      <td>1</td>\n",
       "      <td>John</td>\n",
       "      <td>Doe</td>\n",
       "      <td>john.doe@example.com</td>\n",
       "      <td>1234567890</td>\n",
       "      <td>123 Elm Street</td>\n",
       "      <td>2025-01-20 09:41:46.112032</td>\n",
       "    </tr>\n",
       "    <tr>\n",
       "      <th>1</th>\n",
       "      <td>2</td>\n",
       "      <td>Jane</td>\n",
       "      <td>Smith</td>\n",
       "      <td>jane.smith@example.com</td>\n",
       "      <td>0987654321</td>\n",
       "      <td>456 Oak Avenue</td>\n",
       "      <td>2025-01-20 09:41:46.112032</td>\n",
       "    </tr>\n",
       "    <tr>\n",
       "      <th>2</th>\n",
       "      <td>3</td>\n",
       "      <td>Michael</td>\n",
       "      <td>Johnson</td>\n",
       "      <td>michael.johnson@example.com</td>\n",
       "      <td>None</td>\n",
       "      <td>789 Pine Road</td>\n",
       "      <td>2025-01-20 09:41:46.112032</td>\n",
       "    </tr>\n",
       "    <tr>\n",
       "      <th>3</th>\n",
       "      <td>4</td>\n",
       "      <td>Alice</td>\n",
       "      <td>Brown</td>\n",
       "      <td>alice.brown@example.com</td>\n",
       "      <td>1112223333</td>\n",
       "      <td>101 Maple Street</td>\n",
       "      <td>2025-01-20 09:42:23.452694</td>\n",
       "    </tr>\n",
       "    <tr>\n",
       "      <th>4</th>\n",
       "      <td>5</td>\n",
       "      <td>Bob</td>\n",
       "      <td>Davis</td>\n",
       "      <td>bob.davis@example.com</td>\n",
       "      <td>2223334444</td>\n",
       "      <td>202 Birch Lane</td>\n",
       "      <td>2025-01-20 09:42:23.452694</td>\n",
       "    </tr>\n",
       "    <tr>\n",
       "      <th>5</th>\n",
       "      <td>6</td>\n",
       "      <td>Charlie</td>\n",
       "      <td>Evans</td>\n",
       "      <td>charlie.evans@example.com</td>\n",
       "      <td>3334445555</td>\n",
       "      <td>303 Cedar Court</td>\n",
       "      <td>2025-01-20 09:42:23.452694</td>\n",
       "    </tr>\n",
       "    <tr>\n",
       "      <th>6</th>\n",
       "      <td>7</td>\n",
       "      <td>Diana</td>\n",
       "      <td>Wilson</td>\n",
       "      <td>diana.wilson@example.com</td>\n",
       "      <td>4445556666</td>\n",
       "      <td>404 Ash Drive</td>\n",
       "      <td>2025-01-20 09:42:23.452694</td>\n",
       "    </tr>\n",
       "    <tr>\n",
       "      <th>7</th>\n",
       "      <td>8</td>\n",
       "      <td>Ethan</td>\n",
       "      <td>Taylor</td>\n",
       "      <td>ethan.taylor@example.com</td>\n",
       "      <td>5556667777</td>\n",
       "      <td>505 Fir Road</td>\n",
       "      <td>2025-01-20 09:42:23.452694</td>\n",
       "    </tr>\n",
       "    <tr>\n",
       "      <th>8</th>\n",
       "      <td>9</td>\n",
       "      <td>Fiona</td>\n",
       "      <td>Anderson</td>\n",
       "      <td>fiona.anderson@example.com</td>\n",
       "      <td>6667778888</td>\n",
       "      <td>606 Spruce Street</td>\n",
       "      <td>2025-01-20 09:42:23.452694</td>\n",
       "    </tr>\n",
       "    <tr>\n",
       "      <th>9</th>\n",
       "      <td>10</td>\n",
       "      <td>George</td>\n",
       "      <td>Harris</td>\n",
       "      <td>george.harris@example.com</td>\n",
       "      <td>7778889999</td>\n",
       "      <td>707 Walnut Avenue</td>\n",
       "      <td>2025-01-20 09:42:23.452694</td>\n",
       "    </tr>\n",
       "  </tbody>\n",
       "</table>\n",
       "</div>"
      ],
      "text/plain": [
       "   CUSTOMER_ID FIRST_NAME LAST_NAME                        EMAIL PHONE_NUMBER  \\\n",
       "0            1       John       Doe         john.doe@example.com   1234567890   \n",
       "1            2       Jane     Smith       jane.smith@example.com   0987654321   \n",
       "2            3    Michael   Johnson  michael.johnson@example.com         None   \n",
       "3            4      Alice     Brown      alice.brown@example.com   1112223333   \n",
       "4            5        Bob     Davis        bob.davis@example.com   2223334444   \n",
       "5            6    Charlie     Evans    charlie.evans@example.com   3334445555   \n",
       "6            7      Diana    Wilson     diana.wilson@example.com   4445556666   \n",
       "7            8      Ethan    Taylor     ethan.taylor@example.com   5556667777   \n",
       "8            9      Fiona  Anderson   fiona.anderson@example.com   6667778888   \n",
       "9           10     George    Harris    george.harris@example.com   7778889999   \n",
       "\n",
       "             ADDRESS                 CREATED_AT  \n",
       "0     123 Elm Street 2025-01-20 09:41:46.112032  \n",
       "1     456 Oak Avenue 2025-01-20 09:41:46.112032  \n",
       "2      789 Pine Road 2025-01-20 09:41:46.112032  \n",
       "3   101 Maple Street 2025-01-20 09:42:23.452694  \n",
       "4     202 Birch Lane 2025-01-20 09:42:23.452694  \n",
       "5    303 Cedar Court 2025-01-20 09:42:23.452694  \n",
       "6      404 Ash Drive 2025-01-20 09:42:23.452694  \n",
       "7       505 Fir Road 2025-01-20 09:42:23.452694  \n",
       "8  606 Spruce Street 2025-01-20 09:42:23.452694  \n",
       "9  707 Walnut Avenue 2025-01-20 09:42:23.452694  "
      ]
     },
     "execution_count": 4,
     "metadata": {},
     "output_type": "execute_result"
    }
   ],
   "source": [
    "import itc_utils.flight_service as itcfs\n",
    "from IPython.display import display, HTML\n",
    "nb_data_request = {\n",
    "'connection_name': \"\"\"db2_connection_unmasked\"\"\",\n",
    "'interaction_properties': {\n",
    "'select_statement': 'SELECT * FROM \"DB2INST1\".\"CUSTOMER\" FETCH FIRST 5000 ROWS ONLY'\n",
    "}\n",
    "}\n",
    "flight_descriptor = itcfs.get_flight_descriptor(nb_data_request=nb_data_request)\n",
    "flightClient = itcfs.get_flight_client()\n",
    "flightInfo = flightClient.get_flight_info(flight_descriptor)\n",
    "df_0 = itcfs.read_pandas_and_concat(flightClient, flightInfo, timeout=240)\n",
    "df_0.head(10)"
   ]
  },
  {
   "cell_type": "markdown",
   "id": "462e212e-fcc7-476f-841b-52c6af36a721",
   "metadata": {
    "id": "ebe61311-6e97-454c-8d87-121a4cb9744e",
    "tags": []
   },
   "source": [
    "# 2. Acceder a la data usando API documentada de Secrets"
   ]
  },
  {
   "cell_type": "markdown",
   "id": "c4757e4a-16b5-4696-8475-d30069616d08",
   "metadata": {
    "id": "a91bfb84-46bd-429d-acfa-50c214cfd56b"
   },
   "source": [
    "Primero obtenemos identificador del secreto que buscamos"
   ]
  },
  {
   "cell_type": "code",
   "execution_count": 35,
   "id": "4ce8de14-9f50-4fbc-aba1-48c5bdd0581b",
   "metadata": {
    "id": "4ce8de14-9f50-4fbc-aba1-48c5bdd0581b",
    "tags": []
   },
   "outputs": [
    {
     "name": "stdout",
     "output_type": "stream",
     "text": [
      "200\n",
      "{'db2-secret': '1000331005:db2-secret'}\n"
     ]
    }
   ],
   "source": [
    "import requests\n",
    "import os\n",
    "cpd_cluster_host = \"cpd-cpd.apps.cp4d-education-install.cp.fyre.ibm.com\" # Reemplazar host\n",
    "token = os.environ['USER_ACCESS_TOKEN']\n",
    "url = f\"https://{cpd_cluster_host}/zen-data/v2/secrets\"\n",
    "headers = {\n",
    "\"Accept\": \"application/json\",\n",
    "\"Authorization\": f\"Bearer {token}\" # También soporta ZenApiKey\n",
    "}\n",
    "params = {\n",
    "\"limit\": 2,\n",
    "\"sort\": \"updated_at\",\n",
    "}\n",
    "response = requests.get(url, headers=headers, params=params, verify=False)\n",
    "search_secret_name = \"db2-secret\"\n",
    "secrets = response.json().get(\"secrets\", [])\n",
    "secret_urn = {secret[\"secret_name\"]: secret[\"secret_urn\"] for secret in secrets}\n",
    "print(response.status_code)\n",
    "print(secret_urn)\n",
    "# print(response.json())"
   ]
  },
  {
   "cell_type": "markdown",
   "id": "f2680133-19b3-4e44-ac53-1da3d6b26e81",
   "metadata": {
    "id": "40df22bd-65eb-40f8-bed6-1aff09e24377"
   },
   "source": [
    "Luego obtenemos detalles del secreto"
   ]
  },
  {
   "cell_type": "code",
   "execution_count": 49,
   "id": "ba7cce3a-a495-4129-9dec-bdef8803785e",
   "metadata": {
    "id": "ba7cce3a-a495-4129-9dec-bdef8803785e",
    "tags": []
   },
   "outputs": [
    {
     "name": "stdout",
     "output_type": "stream",
     "text": [
      "200\n",
      "{'data': {'secret': {'credentials': {'password': 'demobancogalicia123', 'username': 'admin'}}}, 'metadata': {'created_at': '2025-01-29T01:21:32.182154Z', 'created_by': 'jlara', 'owner_uid': '1000331005', 'secret_name': 'db2-secret', 'secret_urn': '1000331005:db2-secret', 'type': 'credentials', 'updated_at': '2025-01-29T02:30:07.517797Z', 'vault_name': 'internal', 'vault_urn': '0000000000:internal'}}\n",
      "el usuario es: admin\n",
      "la contraseña del usuario es: demobancogalicia123\n"
     ]
    }
   ],
   "source": [
    "url = f\"https://{cpd_cluster_host}/zen-data/v2/secrets/{secret_urn.get(search_secret_name)}\"\n",
    "headers = {\n",
    "\"Accept\": \"application/json\",\n",
    "\"Authorization\": f\"Bearer {token}\", # También soporta ZenApiKey\n",
    "\"exclude_secret_data\": \"False\"\n",
    "}\n",
    "response = requests.get(url, headers=headers, params=params, verify=False)\n",
    "print(response.status_code)\n",
    "print(response.json())\n",
    "credentials = response.json().get('data', {}).get('secret', {}).get('credentials', {})\n",
    "username = credentials.get('username', 'Unknown')\n",
    "password = credentials.get('password', 'Unknown')\n",
    "print(f\"el usuario es: {username}\")\n",
    "print(f\"la contraseña del usuario es: {password}\")"
   ]
  },
  {
   "cell_type": "markdown",
   "id": "e4541119-a027-43d5-aa85-2e6c954b2c0c",
   "metadata": {
    "id": "a4b0dce6-30de-48e2-bee6-6cb6ad750ad1"
   },
   "source": [
    "# 3. Acceder a la data usando libreria interna de CP4D"
   ]
  },
  {
   "cell_type": "code",
   "execution_count": 6,
   "id": "b40a32d6-74e6-41d6-a5a9-11b31046c202",
   "metadata": {
    "id": "b40a32d6-74e6-41d6-a5a9-11b31046c202",
    "tags": []
   },
   "outputs": [
    {
     "name": "stdout",
     "output_type": "stream",
     "text": [
      "[{'created_at': '2025-01-29T01:21:32.182154Z', 'created_by': 'jlara', 'invalid_auth': 'false', 'owner_uid': '1000331005', 'secret_name': 'db2-secret', 'secret_urn': '1000331005:db2-secret', 'type': 'credentials', 'updated_at': '2025-01-29T01:21:32.182154Z', 'vault_name': 'internal', 'vault_urn': '0000000000:internal'}]\n"
     ]
    }
   ],
   "source": [
    "token =\n",
    "import icpd_core, json\n",
    "from icpd_core import icpd_util\n",
    "my_secrets = icpd_util.get_my_secrets_v2()\n",
    "print(my_secrets)\n",
    "my_test_secret = icpd_util.get_my_secret_details_v2(\"1000331001:test-secret\")\n",
    "my_test_secret_creds = my_test_secret['data']['secret']['credentials']\n",
    "my_db_username = my_test_secret_creds['username']\n",
    "my_db_password = my_test_secret_creds['password']\n",
    "print(my_db_username)\n",
    "print(my_db_password)"
   ]
  }
 ],
 "metadata": {
  "kernelspec": {
   "display_name": "Python 3.10",
   "language": "python",
   "name": "python3"
  },
  "language_info": {
   "codemirror_mode": {
    "name": "ipython",
    "version": 3
   },
   "file_extension": ".py",
   "mimetype": "text/x-python",
   "name": "python",
   "nbconvert_exporter": "python",
   "pygments_lexer": "ipython3",
   "version": "3.10.14"
  }
 },
 "nbformat": 4,
 "nbformat_minor": 5
}
