{
 "cells": [
  {
   "cell_type": "code",
   "execution_count": 1,
   "id": "b893b8ac-dd14-43e7-98bf-e62c00228ea6",
   "metadata": {
    "id": "b893b8ac-dd14-43e7-98bf-e62c00228ea6"
   },
   "outputs": [],
   "source": [
    "import pandas as pd"
   ]
  },
  {
   "cell_type": "code",
   "execution_count": 2,
   "id": "4372f1bc-b3c0-4d57-b320-1f9d1bbb66ba",
   "metadata": {
    "id": "4372f1bc-b3c0-4d57-b320-1f9d1bbb66ba"
   },
   "outputs": [],
   "source": [
    "df=pd.read_csv(\"taxi_2020.csv\")"
   ]
  },
  {
   "cell_type": "code",
   "execution_count": 3,
   "id": "94680fc9-ae29-4028-abbd-87129a5de160",
   "metadata": {
    "id": "94680fc9-ae29-4028-abbd-87129a5de160"
   },
   "outputs": [
    {
     "data": {
      "text/plain": [
       "{'name': 'taxi.csv',\n",
       " 'asset_type': 'data_asset',\n",
       " 'asset_id': 'data_asset.taxicsv',\n",
       " 'attachment_id': '3d38c428-4aeb-409f-be2e-6c72e3171af7',\n",
       " 'filepath': 'taxi.csv',\n",
       " 'data_size': None,\n",
       " 'mime': 'text/csv',\n",
       " 'summary': ['created file', 'created data asset', 'created attachment']}"
      ]
     },
     "execution_count": 3,
     "metadata": {},
     "output_type": "execute_result"
    }
   ],
   "source": [
    "# Import the lib\n",
    "from ibm_watson_studio_lib import access_project_or_space\n",
    "wslib = access_project_or_space()\n",
    "\n",
    "# let's assume you have the pandas DataFrame  pandas_df which contains the data\n",
    "# you want to save as a csv file\n",
    "wslib.save_data(\"taxi.csv\", df.to_csv(index=False).encode())\n",
    "\n",
    "# the function returns a dict which contains the asset_name, asset_id, file_name and additional information\n",
    "# upon successful saving of the data"
   ]
  }
 ],
 "metadata": {
  "kernelspec": {
   "display_name": "Python 3.11",
   "language": "python",
   "name": "python3"
  },
  "language_info": {
   "codemirror_mode": {
    "name": "ipython",
    "version": 3
   },
   "file_extension": ".py",
   "mimetype": "text/x-python",
   "name": "python",
   "nbconvert_exporter": "python",
   "pygments_lexer": "ipython3",
   "version": "3.11.9"
  }
 },
 "nbformat": 4,
 "nbformat_minor": 5
}
